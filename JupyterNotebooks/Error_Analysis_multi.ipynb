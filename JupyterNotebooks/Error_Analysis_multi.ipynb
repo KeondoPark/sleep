{
 "cells": [
  {
   "cell_type": "code",
   "execution_count": 1,
   "id": "693539dc",
   "metadata": {},
   "outputs": [
    {
     "name": "stderr",
     "output_type": "stream",
     "text": [
      "2022-04-12 23:11:53.532609: I tensorflow/stream_executor/platform/default/dso_loader.cc:53] Successfully opened dynamic library libcudart.so.11.0\n"
     ]
    }
   ],
   "source": [
    "import numpy as np\n",
    "import tensorflow as tf\n",
    "import keras\n",
    "import os\n",
    "import sys\n",
    "from tqdm import tqdm\n",
    "import time\n",
    "import keras.backend as K"
   ]
  },
  {
   "cell_type": "code",
   "execution_count": 2,
   "id": "ea3526f6",
   "metadata": {},
   "outputs": [],
   "source": [
    "sys.path.append('..')"
   ]
  },
  {
   "cell_type": "code",
   "execution_count": 3,
   "id": "0013e5a4",
   "metadata": {},
   "outputs": [
    {
     "data": {
      "text/plain": [
       "<module 'Data.datagen' from '/home/keondopark/sleep/JupyterNotebooks/../Data/datagen.py'>"
      ]
     },
     "execution_count": 3,
     "metadata": {},
     "output_type": "execute_result"
    }
   ],
   "source": [
    "import nets\n",
    "from Data import datagen\n",
    "import importlib \n",
    "importlib.reload(datagen)  # Python 3.4+"
   ]
  },
  {
   "cell_type": "code",
   "execution_count": 4,
   "id": "47182a26",
   "metadata": {},
   "outputs": [
    {
     "name": "stdout",
     "output_type": "stream",
     "text": [
      "1 Physical GPUs 1 Logical GPUs\n"
     ]
    },
    {
     "name": "stderr",
     "output_type": "stream",
     "text": [
      "2022-04-12 23:11:59.821796: I tensorflow/stream_executor/platform/default/dso_loader.cc:53] Successfully opened dynamic library libcuda.so.1\n",
      "2022-04-12 23:11:59.892963: I tensorflow/core/common_runtime/gpu/gpu_device.cc:1733] Found device 0 with properties: \n",
      "pciBusID: 0000:25:00.0 name: NVIDIA GeForce RTX 3090 computeCapability: 8.6\n",
      "coreClock: 1.695GHz coreCount: 82 deviceMemorySize: 23.70GiB deviceMemoryBandwidth: 871.81GiB/s\n",
      "2022-04-12 23:11:59.893388: I tensorflow/stream_executor/platform/default/dso_loader.cc:53] Successfully opened dynamic library libcudart.so.11.0\n",
      "2022-04-12 23:12:00.129620: I tensorflow/stream_executor/platform/default/dso_loader.cc:53] Successfully opened dynamic library libcublas.so.11\n",
      "2022-04-12 23:12:00.129674: I tensorflow/stream_executor/platform/default/dso_loader.cc:53] Successfully opened dynamic library libcublasLt.so.11\n",
      "2022-04-12 23:12:00.149267: I tensorflow/stream_executor/platform/default/dso_loader.cc:53] Successfully opened dynamic library libcufft.so.10\n",
      "2022-04-12 23:12:00.157805: I tensorflow/stream_executor/platform/default/dso_loader.cc:53] Successfully opened dynamic library libcurand.so.10\n",
      "2022-04-12 23:12:00.186113: I tensorflow/stream_executor/platform/default/dso_loader.cc:53] Successfully opened dynamic library libcusolver.so.11\n",
      "2022-04-12 23:12:00.236932: I tensorflow/stream_executor/platform/default/dso_loader.cc:53] Successfully opened dynamic library libcusparse.so.11\n",
      "2022-04-12 23:12:00.239952: I tensorflow/stream_executor/platform/default/dso_loader.cc:53] Successfully opened dynamic library libcudnn.so.8\n",
      "2022-04-12 23:12:00.243870: I tensorflow/core/common_runtime/gpu/gpu_device.cc:1871] Adding visible gpu devices: 0\n",
      "2022-04-12 23:12:00.245077: I tensorflow/core/platform/cpu_feature_guard.cc:142] This TensorFlow binary is optimized with oneAPI Deep Neural Network Library (oneDNN) to use the following CPU instructions in performance-critical operations:  AVX2 FMA\n",
      "To enable them in other operations, rebuild TensorFlow with the appropriate compiler flags.\n",
      "2022-04-12 23:12:00.247963: I tensorflow/core/common_runtime/gpu/gpu_device.cc:1733] Found device 0 with properties: \n",
      "pciBusID: 0000:25:00.0 name: NVIDIA GeForce RTX 3090 computeCapability: 8.6\n",
      "coreClock: 1.695GHz coreCount: 82 deviceMemorySize: 23.70GiB deviceMemoryBandwidth: 871.81GiB/s\n",
      "2022-04-12 23:12:00.251246: I tensorflow/core/common_runtime/gpu/gpu_device.cc:1871] Adding visible gpu devices: 0\n",
      "2022-04-12 23:12:00.251306: I tensorflow/stream_executor/platform/default/dso_loader.cc:53] Successfully opened dynamic library libcudart.so.11.0\n",
      "2022-04-12 23:12:01.067312: I tensorflow/core/common_runtime/gpu/gpu_device.cc:1258] Device interconnect StreamExecutor with strength 1 edge matrix:\n",
      "2022-04-12 23:12:01.067354: I tensorflow/core/common_runtime/gpu/gpu_device.cc:1264]      0 \n",
      "2022-04-12 23:12:01.067361: I tensorflow/core/common_runtime/gpu/gpu_device.cc:1277] 0:   N \n",
      "2022-04-12 23:12:01.071479: I tensorflow/core/common_runtime/gpu/gpu_device.cc:1418] Created TensorFlow device (/job:localhost/replica:0/task:0/device:GPU:0 with 6144 MB memory) -> physical GPU (device: 0, name: NVIDIA GeForce RTX 3090, pci bus id: 0000:25:00.0, compute capability: 8.6)\n"
     ]
    }
   ],
   "source": [
    "gpus = tf.config.experimental.list_physical_devices('GPU')\n",
    "if gpus:\n",
    "    try:\n",
    "        tf.config.experimental.set_virtual_device_configuration(gpus[0], \n",
    "        [tf.config.experimental.VirtualDeviceConfiguration(memory_limit=1024*6)])\n",
    "        logical_gpus = tf.config.experimental.list_logical_devices('GPU')\n",
    "        print(len(gpus), \"Physical GPUs\", len(logical_gpus), \"Logical GPUs\")\n",
    "    except RuntimeError as e:\n",
    "        print(e)"
   ]
  },
  {
   "cell_type": "code",
   "execution_count": 5,
   "id": "a508cf50",
   "metadata": {},
   "outputs": [],
   "source": [
    "np.random.seed(1)"
   ]
  },
  {
   "cell_type": "code",
   "execution_count": 6,
   "id": "486b6c92",
   "metadata": {},
   "outputs": [],
   "source": [
    "PROCESSED_DATA_PATH = os.path.join('/home','aiot','data','origin_npy')\n",
    "save_signals_path_SC = os.path.join(PROCESSED_DATA_PATH,'signals_SC_filtered')\n",
    "save_annotations_path_SC = os.path.join(PROCESSED_DATA_PATH,'annotations_SC')\n",
    "save_signals_path_ST = os.path.join(PROCESSED_DATA_PATH,'signals_ST_filtered')\n",
    "save_annotations_path_ST = os.path.join(PROCESSED_DATA_PATH,'annotations_ST')\n",
    "\n",
    "save_signals_path_SC_seq = os.path.join(PROCESSED_DATA_PATH,'signals_SC_seq')\n",
    "save_annotations_path_SC_seq = os.path.join(PROCESSED_DATA_PATH,'annotations_SC_seq')\n",
    "save_signals_path_ST_seq = os.path.join(PROCESSED_DATA_PATH,'signals_ST_seq')\n",
    "save_annotations_path_ST_seq = os.path.join(PROCESSED_DATA_PATH,'annotations_ST_seq')"
   ]
  },
  {
   "cell_type": "code",
   "execution_count": 7,
   "id": "90b452c4",
   "metadata": {},
   "outputs": [],
   "source": [
    "def match_annotations_npy(dirname, filepath):\n",
    "    filename = os.path.basename(filepath)\n",
    "    search_filename = filename.split('-')[0][:-2]\n",
    "    file_list = os.listdir(dirname)\n",
    "    filenames = [file for file in file_list if search_filename in file if file.endswith('.npy')]\n",
    "    return filenames"
   ]
  },
  {
   "cell_type": "code",
   "execution_count": 8,
   "id": "efddcade",
   "metadata": {},
   "outputs": [],
   "source": [
    "dim_HT1D = (3000,1)\n",
    "n_classes=6\n",
    "epochs = 50\n",
    "bs = 64\n",
    "BASE_LEARNING_RATE = 1e-3\n",
    "data_ratio = 0.25\n",
    "PREV_CNT = 10\n",
    "list_files_SC = [os.path.join(save_signals_path_SC, f) for f in os.listdir(save_signals_path_SC) if f.endswith('.npy')]\n",
    "list_files_ST = [os.path.join(save_signals_path_ST, f) for f in os.listdir(save_signals_path_ST) if f.endswith('.npy')]"
   ]
  },
  {
   "cell_type": "code",
   "execution_count": 9,
   "id": "5504e10e",
   "metadata": {},
   "outputs": [],
   "source": [
    "def read_csv_to_list(filepath):\n",
    "    import csv\n",
    "    with open(filepath, newline='') as csvfile:\n",
    "        spamreader = csv.reader(csvfile, delimiter=',')\n",
    "        list_filepath = [row[0] for row in spamreader]\n",
    "    return list_filepath"
   ]
  },
  {
   "cell_type": "code",
   "execution_count": 10,
   "id": "c629b613",
   "metadata": {},
   "outputs": [],
   "source": [
    "list_files_SC = [os.path.join(save_signals_path_SC, f) for f in os.listdir(save_signals_path_SC) if f.endswith('.npy')]\n",
    "list_files_ST = [os.path.join(save_signals_path_ST, f) for f in os.listdir(save_signals_path_ST) if f.endswith('.npy')]\n",
    "\n",
    "list_files_SC_seq = [os.path.join(save_signals_path_SC_seq, f) for f in os.listdir(save_signals_path_SC_seq) if f.endswith('.npy')]\n",
    "list_files_ST_seq = [os.path.join(save_signals_path_ST_seq, f) for f in os.listdir(save_signals_path_ST_seq) if f.endswith('.npy')]\n",
    "\n",
    "train_test_split = 0.7\n",
    "split_cnt_SC = int(train_test_split * len(list_files_SC))\n",
    "split_cnt_ST = int(train_test_split * len(list_files_ST))\n",
    "\n",
    "include_SC = True\n",
    "include_ST = True\n",
    "\n",
    "list_files_train = []\n",
    "list_files_test = []\n",
    "\n",
    "list_seq_files_train = []\n",
    "list_seq_files_test = []\n",
    "\n",
    "list_ann_files_train = []\n",
    "list_ann_files_test = []\n",
    "\n",
    "list_ann_seq_files_train = []\n",
    "list_ann_seq_files_test = []\n",
    "\n",
    "if include_SC:\n",
    "    list_files_SC_train = np.random.choice(list_files_SC[:split_cnt_SC], int(float(data_ratio) * split_cnt_SC), replace=False)\n",
    "    list_files_train += list_files_SC_train.tolist()\n",
    "\n",
    "    for f in list_files_SC_train:\n",
    "        ann_file = match_annotations_npy(save_annotations_path_SC, f)\n",
    "        list_ann_files_train.append(os.path.join(save_annotations_path_SC, ann_file[0]))\n",
    "\n",
    "        list_seq_files_train.append(os.path.join(save_signals_path_SC_seq, os.path.basename(f)))\n",
    "        list_ann_seq_files_train.append(os.path.join(save_annotations_path_SC_seq, ann_file[0]))\n",
    "    \n",
    "    list_files_test += list_files_SC[split_cnt_SC:]\n",
    "\n",
    "    for f in list_files_SC[split_cnt_SC:]:\n",
    "        ann_file = match_annotations_npy(save_annotations_path_SC, f)\n",
    "        list_ann_files_test.append(os.path.join(save_annotations_path_SC, ann_file[0]))\n",
    "        list_seq_files_test.append(os.path.join(save_signals_path_SC_seq, os.path.basename(f)))\n",
    "        list_ann_seq_files_test.append(os.path.join(save_annotations_path_SC_seq, ann_file[0]))\n",
    "\n",
    "\n",
    "\n",
    "\n",
    "if include_ST:\n",
    "    list_files_ST_train = np.random.choice(list_files_ST[:split_cnt_ST], int(float(data_ratio) * split_cnt_ST), replace=False)\n",
    "    list_files_train += list_files_ST_train.tolist()\n",
    "    for f in list_files_ST_train:\n",
    "        ann_file = match_annotations_npy(save_annotations_path_ST, f)\n",
    "        list_ann_files_train.append(os.path.join(save_annotations_path_ST, ann_file[0]))\n",
    "        list_seq_files_train.append(os.path.join(save_signals_path_ST_seq, os.path.basename(f)))\n",
    "        list_ann_seq_files_train.append(os.path.join(save_annotations_path_ST_seq, ann_file[0]))\n",
    "\n",
    "    list_files_test += list_files_ST[split_cnt_ST:]\n",
    "    for f in list_files_ST[split_cnt_ST:]:\n",
    "        ann_file = match_annotations_npy(save_annotations_path_ST, f)\n",
    "        list_ann_files_test.append(os.path.join(save_annotations_path_ST, ann_file[0]))\n",
    "        list_seq_files_test.append(os.path.join(save_signals_path_ST_seq, os.path.basename(f)))\n",
    "        list_ann_seq_files_test.append(os.path.join(save_annotations_path_ST_seq, ann_file[0]))\n",
    "\n",
    "# Generator for training the model predicting from single epoch\n",
    "#train_generator = datagen.DataGenerator(list_files_train, list_ann_files_train, \n",
    "#                          batch_size=bs, dim=dim_HT1D, n_classes=n_classes, shuffle=True)\n",
    "#test_generator = datagen.DataGenerator(list_files_test, list_ann_files_test, \n",
    "#                          batch_size=bs, dim=dim_HT1D, n_classes=n_classes, shuffle=False)\n",
    "\n",
    "#train_generator2 = datagen.DataGenerator(list_seq_files_train, list_ann_seq_files_train, \n",
    "#                          batch_size=bs, dim=(PREV_CNT+1,) + dim_HT1D, n_classes=n_classes, shuffle=True)\n",
    "test_generator2 = datagen.DataGenerator(list_seq_files_test, list_ann_seq_files_test, \n",
    "                          batch_size=bs, dim=(PREV_CNT+1,) + dim_HT1D, n_classes=n_classes, shuffle=False)"
   ]
  },
  {
   "cell_type": "code",
   "execution_count": 17,
   "id": "c560e9d1",
   "metadata": {},
   "outputs": [],
   "source": [
    "model2 = nets.Conv1DASPP_multi2(batch_size=bs, prev_cnt=PREV_CNT)"
   ]
  },
  {
   "cell_type": "code",
   "execution_count": 18,
   "id": "e030142b",
   "metadata": {},
   "outputs": [
    {
     "name": "stdout",
     "output_type": "stream",
     "text": [
      "Model: \"conv1daspp_multi2\"\n",
      "_________________________________________________________________\n",
      "Layer (type)                 Output Shape              Param #   \n",
      "=================================================================\n",
      "conv1daspp_layer_1 (Conv1DAS multiple                  3379456   \n",
      "_________________________________________________________________\n",
      "multihead_cross_attention (M multiple                  197376    \n",
      "_________________________________________________________________\n",
      "dense_5 (Dense)              multiple                  65792     \n",
      "_________________________________________________________________\n",
      "layer_normalization (LayerNo multiple                  512       \n",
      "_________________________________________________________________\n",
      "dense_6 (Dense)              multiple                  168966    \n",
      "=================================================================\n",
      "Total params: 3,812,102\n",
      "Trainable params: 3,806,406\n",
      "Non-trainable params: 5,696\n",
      "_________________________________________________________________\n",
      "None\n"
     ]
    }
   ],
   "source": [
    "x2 = np.random.random((bs,PREV_CNT+1, 3000,1))\n",
    "x2 = tf.convert_to_tensor(x2)\n",
    "model2(x2)\n",
    "print(model2.summary())"
   ]
  },
  {
   "cell_type": "code",
   "execution_count": 19,
   "id": "5d1d4660",
   "metadata": {},
   "outputs": [],
   "source": [
    "def get_current_lr(epoch):\n",
    "    lr = BASE_LEARNING_RATE\n",
    "    for _ in range(epoch // 10):\n",
    "        lr *= 0.1\n",
    "    return lr\n",
    "\n",
    "def adjust_learning_rate(optimizer, epoch):\n",
    "    lr = get_current_lr(epoch)\n",
    "    optimizer.learning_rate = lr"
   ]
  },
  {
   "cell_type": "code",
   "execution_count": 20,
   "id": "b687bdea",
   "metadata": {},
   "outputs": [],
   "source": [
    "optimizer = tf.keras.optimizers.Adam(learning_rate=0.001)\n",
    "loss_fn = tf.keras.losses.SparseCategoricalCrossentropy(from_logits=False)"
   ]
  },
  {
   "cell_type": "code",
   "execution_count": 21,
   "id": "c17478cb",
   "metadata": {},
   "outputs": [],
   "source": [
    "ckpt2 = tf.train.Checkpoint(step=tf.Variable(0), optimizer=optimizer, net=model2)\n",
    "manager2 = tf.train.CheckpointManager(ckpt2, '../tf_ckpt/ckpt_' + model2.name, max_to_keep=1)"
   ]
  },
  {
   "cell_type": "code",
   "execution_count": 22,
   "id": "40bde832",
   "metadata": {},
   "outputs": [],
   "source": [
    "status = ckpt2.restore(tf.train.latest_checkpoint('../tf_ckpt/ckpt_' + model2.name))"
   ]
  },
  {
   "cell_type": "code",
   "execution_count": 23,
   "id": "f5a90c0b",
   "metadata": {},
   "outputs": [],
   "source": [
    "#if manager2.latest_checkpoint:\n",
    "#    ckpt2.restore(manager2.latest_checkpoint)\n",
    "#    print(\"Restored\")\n",
    "#    start_epoch = ckpt2.step.numpy()"
   ]
  },
  {
   "cell_type": "code",
   "execution_count": 24,
   "id": "4ebbb973",
   "metadata": {},
   "outputs": [
    {
     "name": "stdout",
     "output_type": "stream",
     "text": [
      "[2131 / 2131] test loss: 1.149061, test accuracy: 0.869\n",
      "Eval time: 1169.72 sec\n"
     ]
    }
   ],
   "source": [
    "correct, total_cnt, total_loss = 0.0, 0.0, 0.0\n",
    "start = time.time()\n",
    "y_list, y_pred_list = [], []\n",
    "for idx, (x, y) in enumerate(test_generator2):\n",
    "    y_pred = model2(x, training=False)\n",
    "    y_pred_cls = tf.math.argmax(y_pred, axis=-1)\n",
    "    y_pred_list.append(y_pred_cls)\n",
    "    correct += tf.reduce_sum(tf.cast(tf.equal(y_pred_cls, y), tf.float32))\n",
    "    total_cnt += y_pred.shape[0]\n",
    "    y = tf.cast(y, dtype=tf.int32)  \n",
    "    y_list.append(y)\n",
    "    total_loss += loss_fn(y, y_pred).numpy() * y_pred.shape[0]    \n",
    "\n",
    "    test_acc = correct / total_cnt\n",
    "    test_loss = total_loss / total_cnt\n",
    "    if (idx + 1) % 10 == 0 or idx+1 == len(test_generator2):\n",
    "        print(\"[%d / %d] test loss: %.6f, test accuracy: %.3f\"%\n",
    "              (idx+1, len(test_generator2), test_loss, test_acc),end='\\r', flush=True)\n",
    "print(\"\")\n",
    "print(\"Eval time: %.2f sec\"%(time.time() - start))"
   ]
  },
  {
   "cell_type": "code",
   "execution_count": 25,
   "id": "54f4e213",
   "metadata": {},
   "outputs": [],
   "source": [
    "import matplotlib.pyplot as plt"
   ]
  },
  {
   "cell_type": "code",
   "execution_count": 26,
   "id": "04d77be2",
   "metadata": {},
   "outputs": [],
   "source": [
    "y_pred_all = np.concatenate(y_pred_list)\n",
    "y_all = np.concatenate(y_list)"
   ]
  },
  {
   "cell_type": "code",
   "execution_count": 54,
   "id": "334b1cc2",
   "metadata": {},
   "outputs": [],
   "source": [
    "y_pred_by_patient = []\n",
    "y_by_patient = []\n",
    "start = 0\n",
    "for cnt in test_generator2.list_cnt:\n",
    "    y_pred_by_patient.append(y_pred_all[start:start+cnt])\n",
    "    y_by_patient.append(y_all[start:start+cnt])\n",
    "    start += cnt\n",
    "    "
   ]
  },
  {
   "cell_type": "code",
   "execution_count": 55,
   "id": "e270396c",
   "metadata": {},
   "outputs": [],
   "source": [
    "confusion_matrix = np.zeros((n_classes,n_classes))\n",
    "y = tf.cast(y, dtype=tf.int32)    \n",
    "for i in range(n_classes):\n",
    "    for j in range(n_classes):\n",
    "        confusion_matrix[i,j] += np.sum((y_pred_all==i) * (y_all==j))"
   ]
  },
  {
   "cell_type": "code",
   "execution_count": 56,
   "id": "8ea6151c",
   "metadata": {},
   "outputs": [
    {
     "name": "stdout",
     "output_type": "stream",
     "text": [
      "--------------------Confusion Matrix--------------------\n",
      "0.961 0.017 0.005 0.001 0.006 0.011 \n",
      "0.254 0.396 0.211 0.005 0.134 0.000 \n",
      "0.017 0.083 0.793 0.036 0.071 0.001 \n",
      "0.007 0.029 0.353 0.575 0.036 0.001 \n",
      "0.062 0.107 0.098 0.003 0.730 0.001 \n",
      "0.325 0.128 0.173 0.361 0.006 0.006 \n",
      "--------------------Confusion Matrix counts--------------------\n",
      "83830 1443 409 62 510 938 \n",
      "1109 1728 919 21 585 2 \n",
      "452 2233 21442 979 1918 29 \n",
      "54 222 2693 4386 271 5 \n",
      "594 1019 938 29 6982 5 \n",
      "109 43 58 121 2 2 \n"
     ]
    }
   ],
   "source": [
    "print('-'*20 + 'Confusion Matrix' + '-'*20)\n",
    "for i in range(n_classes):\n",
    "    print_ln = \"\"\n",
    "    for j in range(n_classes):\n",
    "        print_ln += \"%.3f \"%(confusion_matrix[i,j] / np.sum(confusion_matrix[i]))\n",
    "    print(print_ln)\n",
    "    \n",
    "print('-'*20 + 'Confusion Matrix counts' + '-'*20)\n",
    "for i in range(n_classes):\n",
    "    print_ln = \"\"\n",
    "    for j in range(n_classes):\n",
    "        print_ln += \"%d \"%(confusion_matrix[i,j])\n",
    "    print(print_ln)"
   ]
  },
  {
   "cell_type": "code",
   "execution_count": 60,
   "id": "8471ff8b",
   "metadata": {},
   "outputs": [],
   "source": [
    "p_idx = 1\n",
    "obs_len = 400"
   ]
  },
  {
   "cell_type": "code",
   "execution_count": 61,
   "id": "1a023f59",
   "metadata": {},
   "outputs": [
    {
     "data": {
      "text/plain": [
       "(64, 11, 3000, 1)"
      ]
     },
     "execution_count": 61,
     "metadata": {},
     "output_type": "execute_result"
    }
   ],
   "source": [
    "test_generator2[0][0].shape"
   ]
  },
  {
   "cell_type": "code",
   "execution_count": 62,
   "id": "b4551e0b",
   "metadata": {
    "scrolled": true
   },
   "outputs": [
    {
     "data": {
      "text/plain": [
       "(array([[[[ 0.0547239 ],\n",
       "          [ 0.26828253],\n",
       "          [ 0.6199107 ],\n",
       "          ...,\n",
       "          [ 0.7355756 ],\n",
       "          [ 1.0064778 ],\n",
       "          [ 1.1006563 ]],\n",
       " \n",
       "         [[ 0.05131072],\n",
       "          [ 0.29051712],\n",
       "          [ 0.6157106 ],\n",
       "          ...,\n",
       "          [-0.01012387],\n",
       "          [-0.1616624 ],\n",
       "          [-0.07077299]],\n",
       " \n",
       "         [[-0.03759644],\n",
       "          [-0.24855499],\n",
       "          [-0.62924415],\n",
       "          ...,\n",
       "          [-1.7226909 ],\n",
       "          [-1.6883574 ],\n",
       "          [-1.6434124 ]],\n",
       " \n",
       "         ...,\n",
       " \n",
       "         [[-0.04915861],\n",
       "          [-0.2739205 ],\n",
       "          [-0.63744724],\n",
       "          ...,\n",
       "          [-0.06626432],\n",
       "          [-0.02997765],\n",
       "          [ 0.05738074]],\n",
       " \n",
       "         [[-0.09670595],\n",
       "          [-0.6000468 ],\n",
       "          [-1.3538058 ],\n",
       "          ...,\n",
       "          [-1.466484  ],\n",
       "          [-0.4085798 ],\n",
       "          [-0.5149938 ]],\n",
       " \n",
       "         [[ 0.0378954 ],\n",
       "          [ 0.17572506],\n",
       "          [ 0.441526  ],\n",
       "          ...,\n",
       "          [-1.5117931 ],\n",
       "          [-1.457302  ],\n",
       "          [-1.4607868 ]]],\n",
       " \n",
       " \n",
       "        [[[ 0.05131072],\n",
       "          [ 0.29051712],\n",
       "          [ 0.6157106 ],\n",
       "          ...,\n",
       "          [-0.01012387],\n",
       "          [-0.1616624 ],\n",
       "          [-0.07077299]],\n",
       " \n",
       "         [[-0.03759644],\n",
       "          [-0.24855499],\n",
       "          [-0.62924415],\n",
       "          ...,\n",
       "          [-1.7226909 ],\n",
       "          [-1.6883574 ],\n",
       "          [-1.6434124 ]],\n",
       " \n",
       "         [[ 0.07508433],\n",
       "          [ 0.4847582 ],\n",
       "          [ 1.0742676 ],\n",
       "          ...,\n",
       "          [-2.613629  ],\n",
       "          [-2.3224328 ],\n",
       "          [-2.358512  ]],\n",
       " \n",
       "         ...,\n",
       " \n",
       "         [[-0.09670595],\n",
       "          [-0.6000468 ],\n",
       "          [-1.3538058 ],\n",
       "          ...,\n",
       "          [-1.466484  ],\n",
       "          [-0.4085798 ],\n",
       "          [-0.5149938 ]],\n",
       " \n",
       "         [[ 0.0378954 ],\n",
       "          [ 0.17572506],\n",
       "          [ 0.441526  ],\n",
       "          ...,\n",
       "          [-1.5117931 ],\n",
       "          [-1.457302  ],\n",
       "          [-1.4607868 ]],\n",
       " \n",
       "         [[ 0.14513472],\n",
       "          [ 0.8553241 ],\n",
       "          [ 1.971552  ],\n",
       "          ...,\n",
       "          [-0.0183464 ],\n",
       "          [ 0.06358233],\n",
       "          [ 0.10708601]]],\n",
       " \n",
       " \n",
       "        [[[-0.03759644],\n",
       "          [-0.24855499],\n",
       "          [-0.62924415],\n",
       "          ...,\n",
       "          [-1.7226909 ],\n",
       "          [-1.6883574 ],\n",
       "          [-1.6434124 ]],\n",
       " \n",
       "         [[ 0.07508433],\n",
       "          [ 0.4847582 ],\n",
       "          [ 1.0742676 ],\n",
       "          ...,\n",
       "          [-2.613629  ],\n",
       "          [-2.3224328 ],\n",
       "          [-2.358512  ]],\n",
       " \n",
       "         [[-0.10643619],\n",
       "          [-0.5931331 ],\n",
       "          [-1.3262768 ],\n",
       "          ...,\n",
       "          [-0.11925088],\n",
       "          [-0.19370295],\n",
       "          [-0.25758165]],\n",
       " \n",
       "         ...,\n",
       " \n",
       "         [[ 0.0378954 ],\n",
       "          [ 0.17572506],\n",
       "          [ 0.441526  ],\n",
       "          ...,\n",
       "          [-1.5117931 ],\n",
       "          [-1.457302  ],\n",
       "          [-1.4607868 ]],\n",
       " \n",
       "         [[ 0.14513472],\n",
       "          [ 0.8553241 ],\n",
       "          [ 1.971552  ],\n",
       "          ...,\n",
       "          [-0.0183464 ],\n",
       "          [ 0.06358233],\n",
       "          [ 0.10708601]],\n",
       " \n",
       "         [[ 0.02983791],\n",
       "          [ 0.16040565],\n",
       "          [ 0.32547665],\n",
       "          ...,\n",
       "          [-0.11204476],\n",
       "          [-0.0656055 ],\n",
       "          [ 0.00970029]]],\n",
       " \n",
       " \n",
       "        ...,\n",
       " \n",
       " \n",
       "        [[[-0.04324475],\n",
       "          [-0.22518364],\n",
       "          [-0.5449756 ],\n",
       "          ...,\n",
       "          [-2.1434965 ],\n",
       "          [-2.1621158 ],\n",
       "          [-2.1934955 ]],\n",
       " \n",
       "         [[ 0.04963195],\n",
       "          [ 0.26270485],\n",
       "          [ 0.5715489 ],\n",
       "          ...,\n",
       "          [ 0.5424323 ],\n",
       "          [ 0.61261624],\n",
       "          [ 0.37586716]],\n",
       " \n",
       "         [[-0.02553748],\n",
       "          [-0.20150389],\n",
       "          [-0.52502376],\n",
       "          ...,\n",
       "          [-1.4034592 ],\n",
       "          [-1.079723  ],\n",
       "          [-0.8005258 ]],\n",
       " \n",
       "         ...,\n",
       " \n",
       "         [[-0.02639117],\n",
       "          [-0.09898319],\n",
       "          [-0.09076423],\n",
       "          ...,\n",
       "          [ 0.12644242],\n",
       "          [ 1.8906602 ],\n",
       "          [ 2.2376618 ]],\n",
       " \n",
       "         [[-0.07113981],\n",
       "          [-0.419137  ],\n",
       "          [-0.8149219 ],\n",
       "          ...,\n",
       "          [ 0.6568163 ],\n",
       "          [ 0.30332297],\n",
       "          [ 0.53509814]],\n",
       " \n",
       "         [[-0.16845246],\n",
       "          [-0.83123803],\n",
       "          [-1.6011649 ],\n",
       "          ...,\n",
       "          [-0.2460985 ],\n",
       "          [-0.06200314],\n",
       "          [-0.41054174]]],\n",
       " \n",
       " \n",
       "        [[[ 0.04963195],\n",
       "          [ 0.26270485],\n",
       "          [ 0.5715489 ],\n",
       "          ...,\n",
       "          [ 0.5424323 ],\n",
       "          [ 0.61261624],\n",
       "          [ 0.37586716]],\n",
       " \n",
       "         [[-0.02553748],\n",
       "          [-0.20150389],\n",
       "          [-0.52502376],\n",
       "          ...,\n",
       "          [-1.4034592 ],\n",
       "          [-1.079723  ],\n",
       "          [-0.8005258 ]],\n",
       " \n",
       "         [[-0.05998453],\n",
       "          [-0.35292462],\n",
       "          [-0.6901338 ],\n",
       "          ...,\n",
       "          [ 0.72228366],\n",
       "          [ 0.74909383],\n",
       "          [ 0.7080148 ]],\n",
       " \n",
       "         ...,\n",
       " \n",
       "         [[-0.07113981],\n",
       "          [-0.419137  ],\n",
       "          [-0.8149219 ],\n",
       "          ...,\n",
       "          [ 0.6568163 ],\n",
       "          [ 0.30332297],\n",
       "          [ 0.53509814]],\n",
       " \n",
       "         [[-0.16845246],\n",
       "          [-0.83123803],\n",
       "          [-1.6011649 ],\n",
       "          ...,\n",
       "          [-0.2460985 ],\n",
       "          [-0.06200314],\n",
       "          [-0.41054174]],\n",
       " \n",
       "         [[-0.10520785],\n",
       "          [-0.558625  ],\n",
       "          [-1.2459918 ],\n",
       "          ...,\n",
       "          [ 0.43805677],\n",
       "          [ 0.43916467],\n",
       "          [ 0.59878564]]],\n",
       " \n",
       " \n",
       "        [[[-0.02553748],\n",
       "          [-0.20150389],\n",
       "          [-0.52502376],\n",
       "          ...,\n",
       "          [-1.4034592 ],\n",
       "          [-1.079723  ],\n",
       "          [-0.8005258 ]],\n",
       " \n",
       "         [[-0.05998453],\n",
       "          [-0.35292462],\n",
       "          [-0.6901338 ],\n",
       "          ...,\n",
       "          [ 0.72228366],\n",
       "          [ 0.74909383],\n",
       "          [ 0.7080148 ]],\n",
       " \n",
       "         [[ 0.01429264],\n",
       "          [ 0.08595424],\n",
       "          [ 0.15097094],\n",
       "          ...,\n",
       "          [-0.70185655],\n",
       "          [-0.6427493 ],\n",
       "          [-0.5989456 ]],\n",
       " \n",
       "         ...,\n",
       " \n",
       "         [[-0.16845246],\n",
       "          [-0.83123803],\n",
       "          [-1.6011649 ],\n",
       "          ...,\n",
       "          [-0.2460985 ],\n",
       "          [-0.06200314],\n",
       "          [-0.41054174]],\n",
       " \n",
       "         [[-0.10520785],\n",
       "          [-0.558625  ],\n",
       "          [-1.2459918 ],\n",
       "          ...,\n",
       "          [ 0.43805677],\n",
       "          [ 0.43916467],\n",
       "          [ 0.59878564]],\n",
       " \n",
       "         [[-0.01445445],\n",
       "          [-0.09565444],\n",
       "          [-0.18191433],\n",
       "          ...,\n",
       "          [-0.5358499 ],\n",
       "          [-0.69017476],\n",
       "          [-0.5692385 ]]]], dtype=float32),\n",
       " array([0, 0, 0, 0, 0, 0, 0, 0, 0, 0, 0, 0, 0, 0, 0, 0, 0, 0, 0, 0, 0, 0,\n",
       "        0, 0, 0, 0, 0, 0, 0, 0, 0, 0, 0, 0, 0, 0, 0, 0, 0, 0, 0, 0, 0, 0,\n",
       "        0, 0, 0, 0, 0, 0, 0, 0, 0, 0, 0, 0, 0, 0, 0, 0, 0, 0, 0, 0],\n",
       "       dtype=int32))"
      ]
     },
     "execution_count": 62,
     "metadata": {},
     "output_type": "execute_result"
    }
   ],
   "source": [
    "test_generator2[1]"
   ]
  },
  {
   "cell_type": "code",
   "execution_count": 63,
   "id": "1d23b29e",
   "metadata": {
    "scrolled": false
   },
   "outputs": [
    {
     "data": {
      "image/png": "[encoded data removed]",
      "text/plain": [
       "<Figure size 1080x360 with 1 Axes>"
      ]
     },
     "metadata": {
      "needs_background": "light"
     },
     "output_type": "display_data"
    },
    {
     "data": {
      "image/png": "[encoded data removed]",
      "text/plain": [
       "<Figure size 1080x360 with 1 Axes>"
      ]
     },
     "metadata": {
      "needs_background": "light"
     },
     "output_type": "display_data"
    },
    {
     "name": "stdout",
     "output_type": "stream",
     "text": [
      "WARNING:tensorflow:Unresolved object in checkpoint: (root).save_counter\n",
      "WARNING:tensorflow:Unresolved object in checkpoint: (root).optimizer.iter\n",
      "WARNING:tensorflow:Unresolved object in checkpoint: (root).optimizer.beta_1\n",
      "WARNING:tensorflow:Unresolved object in checkpoint: (root).optimizer.beta_2\n",
      "WARNING:tensorflow:Unresolved object in checkpoint: (root).optimizer.decay\n",
      "WARNING:tensorflow:Unresolved object in checkpoint: (root).optimizer.learning_rate\n",
      "WARNING:tensorflow:A checkpoint was restored (e.g. tf.train.Checkpoint.restore or tf.keras.Model.load_weights) but not all checkpointed values were used. See above for specific issues. Use expect_partial() on the load status object, e.g. tf.train.Checkpoint.restore(...).expect_partial(), to silence these warnings, or use assert_consumed() to make the check explicit. See https://www.tensorflow.org/guide/checkpoint#loading_mechanics for details.\n"
     ]
    },
    {
     "data": {
      "image/png": "[encoded data removed]",
      "text/plain": [
       "<Figure size 1080x360 with 1 Axes>"
      ]
     },
     "metadata": {
      "needs_background": "light"
     },
     "output_type": "display_data"
    },
    {
     "data": {
      "image/png": "[encoded data removed]",
      "text/plain": [
       "<Figure size 1080x360 with 1 Axes>"
      ]
     },
     "metadata": {
      "needs_background": "light"
     },
     "output_type": "display_data"
    },
    {
     "data": {
      "image/png": "[encoded data removed]",
      "text/plain": [
       "<Figure size 1080x360 with 1 Axes>"
      ]
     },
     "metadata": {
      "needs_background": "light"
     },
     "output_type": "display_data"
    },
    {
     "data": {
      "image/png": "[encoded data removed]",
      "text/plain": [
       "<Figure size 1080x360 with 1 Axes>"
      ]
     },
     "metadata": {
      "needs_background": "light"
     },
     "output_type": "display_data"
    },
    {
     "data": {
      "image/png": "[encoded data removed]",
      "text/plain": [
       "<Figure size 1080x360 with 1 Axes>"
      ]
     },
     "metadata": {
      "needs_background": "light"
     },
     "output_type": "display_data"
    },
    {
     "data": {
      "image/png": "[encoded data removed]",
      "text/plain": [
       "<Figure size 1080x360 with 1 Axes>"
      ]
     },
     "metadata": {
      "needs_background": "light"
     },
     "output_type": "display_data"
    }
   ],
   "source": [
    "pred = y_pred_by_patient[p_idx]\n",
    "gt = y_by_patient[p_idx]\n",
    "pred[pred == 4] = -1\n",
    "gt[gt == 4] = -1\n",
    "diff = np.where(pred == gt, None, pred)\n",
    "for i in range((len(pred - 10) - 1) // obs_len + 1):\n",
    "    plt.figure(figsize=(15,5))\n",
    "    plt.plot(gt[10 + obs_len * i:10 + obs_len * (i+1)], label='gt label')    \n",
    "    plt.plot(diff[10 + obs_len * i:10 + obs_len * (i+1)], label='diff (predicted)')\n",
    "    plt.legend()"
   ]
  },
  {
   "cell_type": "code",
   "execution_count": 101,
   "id": "c0972f51",
   "metadata": {},
   "outputs": [],
   "source": [
    "model2 = nets.Conv1DASPP_multi(batch_size=bs, prev_cnt=PREV_CNT)"
   ]
  },
  {
   "cell_type": "code",
   "execution_count": 108,
   "id": "326a9717",
   "metadata": {},
   "outputs": [
    {
     "name": "stdout",
     "output_type": "stream",
     "text": [
      "Model: \"conv1daspp_multi\"\n",
      "_________________________________________________________________\n",
      "Layer (type)                 Output Shape              Param #   \n",
      "=================================================================\n",
      "conv1daspp_layer_1 (Conv1DAS multiple                  3379456   \n",
      "_________________________________________________________________\n",
      "dense_3 (Dense)              multiple                  168966    \n",
      "=================================================================\n",
      "Total params: 3,548,422\n",
      "Trainable params: 3,542,726\n",
      "Non-trainable params: 5,696\n",
      "_________________________________________________________________\n",
      "None\n"
     ]
    }
   ],
   "source": [
    "x2 = np.random.random((bs,PREV_CNT+1, 3000,1))\n",
    "x2 = tf.convert_to_tensor(x2)\n",
    "model2(x2)\n",
    "print(model2.summary())"
   ]
  },
  {
   "cell_type": "code",
   "execution_count": 105,
   "id": "88e50106",
   "metadata": {},
   "outputs": [],
   "source": [
    "ckpt2 = tf.train.Checkpoint(step=tf.Variable(0), optimizer=optimizer, net=model2)\n",
    "manager2 = tf.train.CheckpointManager(ckpt2, '../tf_ckpt/ckpt_' + model2.name, max_to_keep=1)"
   ]
  },
  {
   "cell_type": "code",
   "execution_count": 106,
   "id": "b46b6a5e",
   "metadata": {},
   "outputs": [
    {
     "ename": "ValueError",
     "evalue": "Shapes (28160, 6) and (2560, 6) are incompatible",
     "output_type": "error",
     "traceback": [
      "\u001b[0;31m---------------------------------------------------------------------------\u001b[0m",
      "\u001b[0;31mValueError\u001b[0m                                Traceback (most recent call last)",
      "\u001b[0;32m/tmp/ipykernel_5380/744941625.py\u001b[0m in \u001b[0;36m<module>\u001b[0;34m\u001b[0m\n\u001b[1;32m      1\u001b[0m \u001b[0;32mif\u001b[0m \u001b[0mmanager2\u001b[0m\u001b[0;34m.\u001b[0m\u001b[0mlatest_checkpoint\u001b[0m\u001b[0;34m:\u001b[0m\u001b[0;34m\u001b[0m\u001b[0;34m\u001b[0m\u001b[0m\n\u001b[0;32m----> 2\u001b[0;31m     \u001b[0mckpt2\u001b[0m\u001b[0;34m.\u001b[0m\u001b[0mrestore\u001b[0m\u001b[0;34m(\u001b[0m\u001b[0mmanager2\u001b[0m\u001b[0;34m.\u001b[0m\u001b[0mlatest_checkpoint\u001b[0m\u001b[0;34m)\u001b[0m\u001b[0;34m\u001b[0m\u001b[0;34m\u001b[0m\u001b[0m\n\u001b[0m\u001b[1;32m      3\u001b[0m     \u001b[0mstart_epoch\u001b[0m \u001b[0;34m=\u001b[0m \u001b[0mckpt2\u001b[0m\u001b[0;34m.\u001b[0m\u001b[0mstep\u001b[0m\u001b[0;34m.\u001b[0m\u001b[0mnumpy\u001b[0m\u001b[0;34m(\u001b[0m\u001b[0;34m)\u001b[0m\u001b[0;34m-\u001b[0m\u001b[0;36m1\u001b[0m\u001b[0;34m\u001b[0m\u001b[0;34m\u001b[0m\u001b[0m\n",
      "\u001b[0;32m~/anaconda3/envs/sleep/lib/python3.8/site-packages/tensorflow/python/training/tracking/util.py\u001b[0m in \u001b[0;36mrestore\u001b[0;34m(self, save_path, options)\u001b[0m\n\u001b[1;32m   2261\u001b[0m \u001b[0;34m\u001b[0m\u001b[0m\n\u001b[1;32m   2262\u001b[0m     \u001b[0;32mtry\u001b[0m\u001b[0;34m:\u001b[0m\u001b[0;34m\u001b[0m\u001b[0;34m\u001b[0m\u001b[0m\n\u001b[0;32m-> 2263\u001b[0;31m       \u001b[0mstatus\u001b[0m \u001b[0;34m=\u001b[0m \u001b[0mself\u001b[0m\u001b[0;34m.\u001b[0m\u001b[0mread\u001b[0m\u001b[0;34m(\u001b[0m\u001b[0msave_path\u001b[0m\u001b[0;34m,\u001b[0m \u001b[0moptions\u001b[0m\u001b[0;34m=\u001b[0m\u001b[0moptions\u001b[0m\u001b[0;34m)\u001b[0m\u001b[0;34m\u001b[0m\u001b[0;34m\u001b[0m\u001b[0m\n\u001b[0m\u001b[1;32m   2264\u001b[0m     \u001b[0;32mexcept\u001b[0m \u001b[0merrors_impl\u001b[0m\u001b[0;34m.\u001b[0m\u001b[0mNotFoundError\u001b[0m\u001b[0;34m:\u001b[0m\u001b[0;34m\u001b[0m\u001b[0;34m\u001b[0m\u001b[0m\n\u001b[1;32m   2265\u001b[0m       raise errors_impl.NotFoundError(\n",
      "\u001b[0;32m~/anaconda3/envs/sleep/lib/python3.8/site-packages/tensorflow/python/training/tracking/util.py\u001b[0m in \u001b[0;36mread\u001b[0;34m(self, save_path, options)\u001b[0m\n\u001b[1;32m   2149\u001b[0m     \"\"\"\n\u001b[1;32m   2150\u001b[0m     \u001b[0moptions\u001b[0m \u001b[0;34m=\u001b[0m \u001b[0moptions\u001b[0m \u001b[0;32mor\u001b[0m \u001b[0mcheckpoint_options\u001b[0m\u001b[0;34m.\u001b[0m\u001b[0mCheckpointOptions\u001b[0m\u001b[0;34m(\u001b[0m\u001b[0;34m)\u001b[0m\u001b[0;34m\u001b[0m\u001b[0;34m\u001b[0m\u001b[0m\n\u001b[0;32m-> 2151\u001b[0;31m     \u001b[0;32mreturn\u001b[0m \u001b[0mself\u001b[0m\u001b[0;34m.\u001b[0m\u001b[0m_saver\u001b[0m\u001b[0;34m.\u001b[0m\u001b[0mrestore\u001b[0m\u001b[0;34m(\u001b[0m\u001b[0msave_path\u001b[0m\u001b[0;34m=\u001b[0m\u001b[0msave_path\u001b[0m\u001b[0;34m,\u001b[0m \u001b[0moptions\u001b[0m\u001b[0;34m=\u001b[0m\u001b[0moptions\u001b[0m\u001b[0;34m)\u001b[0m\u001b[0;34m\u001b[0m\u001b[0;34m\u001b[0m\u001b[0m\n\u001b[0m\u001b[1;32m   2152\u001b[0m \u001b[0;34m\u001b[0m\u001b[0m\n\u001b[1;32m   2153\u001b[0m   \u001b[0;32mdef\u001b[0m \u001b[0mrestore\u001b[0m\u001b[0;34m(\u001b[0m\u001b[0mself\u001b[0m\u001b[0;34m,\u001b[0m \u001b[0msave_path\u001b[0m\u001b[0;34m,\u001b[0m \u001b[0moptions\u001b[0m\u001b[0;34m=\u001b[0m\u001b[0;32mNone\u001b[0m\u001b[0;34m)\u001b[0m\u001b[0;34m:\u001b[0m\u001b[0;34m\u001b[0m\u001b[0;34m\u001b[0m\u001b[0m\n",
      "\u001b[0;32m~/anaconda3/envs/sleep/lib/python3.8/site-packages/tensorflow/python/training/tracking/util.py\u001b[0m in \u001b[0;36mrestore\u001b[0;34m(self, save_path, options)\u001b[0m\n\u001b[1;32m   1336\u001b[0m         \u001b[0mgraph_view\u001b[0m\u001b[0;34m=\u001b[0m\u001b[0mself\u001b[0m\u001b[0;34m.\u001b[0m\u001b[0m_graph_view\u001b[0m\u001b[0;34m,\u001b[0m\u001b[0;34m\u001b[0m\u001b[0;34m\u001b[0m\u001b[0m\n\u001b[1;32m   1337\u001b[0m         options=options)\n\u001b[0;32m-> 1338\u001b[0;31m     base.CheckpointPosition(\n\u001b[0m\u001b[1;32m   1339\u001b[0m         checkpoint=checkpoint, proto_id=0).restore(self._graph_view.root)\n\u001b[1;32m   1340\u001b[0m \u001b[0;34m\u001b[0m\u001b[0m\n",
      "\u001b[0;32m~/anaconda3/envs/sleep/lib/python3.8/site-packages/tensorflow/python/training/tracking/base.py\u001b[0m in \u001b[0;36mrestore\u001b[0;34m(self, trackable)\u001b[0m\n\u001b[1;32m    256\u001b[0m         \u001b[0;31m# This object's correspondence with a checkpointed object is new, so\u001b[0m\u001b[0;34m\u001b[0m\u001b[0;34m\u001b[0m\u001b[0;34m\u001b[0m\u001b[0m\n\u001b[1;32m    257\u001b[0m         \u001b[0;31m# process deferred restorations for it and its dependencies.\u001b[0m\u001b[0;34m\u001b[0m\u001b[0;34m\u001b[0m\u001b[0;34m\u001b[0m\u001b[0m\n\u001b[0;32m--> 258\u001b[0;31m         \u001b[0mrestore_ops\u001b[0m \u001b[0;34m=\u001b[0m \u001b[0mtrackable\u001b[0m\u001b[0;34m.\u001b[0m\u001b[0m_restore_from_checkpoint_position\u001b[0m\u001b[0;34m(\u001b[0m\u001b[0mself\u001b[0m\u001b[0;34m)\u001b[0m  \u001b[0;31m# pylint: disable=protected-access\u001b[0m\u001b[0;34m\u001b[0m\u001b[0;34m\u001b[0m\u001b[0m\n\u001b[0m\u001b[1;32m    259\u001b[0m         \u001b[0;32mif\u001b[0m \u001b[0mrestore_ops\u001b[0m\u001b[0;34m:\u001b[0m\u001b[0;34m\u001b[0m\u001b[0;34m\u001b[0m\u001b[0m\n\u001b[1;32m    260\u001b[0m           \u001b[0mself\u001b[0m\u001b[0;34m.\u001b[0m\u001b[0m_checkpoint\u001b[0m\u001b[0;34m.\u001b[0m\u001b[0mnew_restore_ops\u001b[0m\u001b[0;34m(\u001b[0m\u001b[0mrestore_ops\u001b[0m\u001b[0;34m)\u001b[0m\u001b[0;34m\u001b[0m\u001b[0;34m\u001b[0m\u001b[0m\n",
      "\u001b[0;32m~/anaconda3/envs/sleep/lib/python3.8/site-packages/tensorflow/python/training/tracking/base.py\u001b[0m in \u001b[0;36m_restore_from_checkpoint_position\u001b[0;34m(self, checkpoint_position)\u001b[0m\n\u001b[1;32m    975\u001b[0m       \u001b[0mpython_saveables\u001b[0m\u001b[0;34m.\u001b[0m\u001b[0mextend\u001b[0m\u001b[0;34m(\u001b[0m\u001b[0mnew_python_saveables\u001b[0m\u001b[0;34m)\u001b[0m\u001b[0;34m\u001b[0m\u001b[0;34m\u001b[0m\u001b[0m\n\u001b[1;32m    976\u001b[0m     restore_ops.extend(\n\u001b[0;32m--> 977\u001b[0;31m         current_position.checkpoint.restore_saveables(\n\u001b[0m\u001b[1;32m    978\u001b[0m             tensor_saveables, python_saveables))\n\u001b[1;32m    979\u001b[0m     \u001b[0;32mreturn\u001b[0m \u001b[0mrestore_ops\u001b[0m\u001b[0;34m\u001b[0m\u001b[0;34m\u001b[0m\u001b[0m\n",
      "\u001b[0;32m~/anaconda3/envs/sleep/lib/python3.8/site-packages/tensorflow/python/training/tracking/util.py\u001b[0m in \u001b[0;36mrestore_saveables\u001b[0;34m(self, tensor_saveables, python_saveables)\u001b[0m\n\u001b[1;32m    306\u001b[0m             (\"Saveable keys changed when validating. Got back %s, was \"\n\u001b[1;32m    307\u001b[0m              \"expecting %s\") % (tensor_saveables.keys(), validated_names))\n\u001b[0;32m--> 308\u001b[0;31m       new_restore_ops = functional_saver.MultiDeviceSaver(\n\u001b[0m\u001b[1;32m    309\u001b[0m           validated_saveables).restore(self.save_path_tensor, self.options)\n\u001b[1;32m    310\u001b[0m       \u001b[0;32mif\u001b[0m \u001b[0;32mnot\u001b[0m \u001b[0mcontext\u001b[0m\u001b[0;34m.\u001b[0m\u001b[0mexecuting_eagerly\u001b[0m\u001b[0;34m(\u001b[0m\u001b[0;34m)\u001b[0m\u001b[0;34m:\u001b[0m\u001b[0;34m\u001b[0m\u001b[0;34m\u001b[0m\u001b[0m\n",
      "\u001b[0;32m~/anaconda3/envs/sleep/lib/python3.8/site-packages/tensorflow/python/training/saving/functional_saver.py\u001b[0m in \u001b[0;36mrestore\u001b[0;34m(self, file_prefix, options)\u001b[0m\n\u001b[1;32m    337\u001b[0m       \u001b[0mrestore_ops\u001b[0m \u001b[0;34m=\u001b[0m \u001b[0mtf_function_restore\u001b[0m\u001b[0;34m(\u001b[0m\u001b[0;34m)\u001b[0m\u001b[0;34m\u001b[0m\u001b[0;34m\u001b[0m\u001b[0m\n\u001b[1;32m    338\u001b[0m     \u001b[0;32melse\u001b[0m\u001b[0;34m:\u001b[0m\u001b[0;34m\u001b[0m\u001b[0;34m\u001b[0m\u001b[0m\n\u001b[0;32m--> 339\u001b[0;31m       \u001b[0mrestore_ops\u001b[0m \u001b[0;34m=\u001b[0m \u001b[0mrestore_fn\u001b[0m\u001b[0;34m(\u001b[0m\u001b[0;34m)\u001b[0m\u001b[0;34m\u001b[0m\u001b[0;34m\u001b[0m\u001b[0m\n\u001b[0m\u001b[1;32m    340\u001b[0m \u001b[0;34m\u001b[0m\u001b[0m\n\u001b[1;32m    341\u001b[0m     \u001b[0;32mfor\u001b[0m \u001b[0mcallback\u001b[0m \u001b[0;32min\u001b[0m \u001b[0mself\u001b[0m\u001b[0;34m.\u001b[0m\u001b[0m_after_restore_callbacks\u001b[0m\u001b[0;34m:\u001b[0m\u001b[0;34m\u001b[0m\u001b[0;34m\u001b[0m\u001b[0m\n",
      "\u001b[0;32m~/anaconda3/envs/sleep/lib/python3.8/site-packages/tensorflow/python/training/saving/functional_saver.py\u001b[0m in \u001b[0;36mrestore_fn\u001b[0;34m()\u001b[0m\n\u001b[1;32m    321\u001b[0m       \u001b[0;32mfor\u001b[0m \u001b[0mdevice\u001b[0m\u001b[0;34m,\u001b[0m \u001b[0msaver\u001b[0m \u001b[0;32min\u001b[0m \u001b[0msorted\u001b[0m\u001b[0;34m(\u001b[0m\u001b[0mself\u001b[0m\u001b[0;34m.\u001b[0m\u001b[0m_single_device_savers\u001b[0m\u001b[0;34m.\u001b[0m\u001b[0mitems\u001b[0m\u001b[0;34m(\u001b[0m\u001b[0;34m)\u001b[0m\u001b[0;34m)\u001b[0m\u001b[0;34m:\u001b[0m\u001b[0;34m\u001b[0m\u001b[0;34m\u001b[0m\u001b[0m\n\u001b[1;32m    322\u001b[0m         \u001b[0;32mwith\u001b[0m \u001b[0mops\u001b[0m\u001b[0;34m.\u001b[0m\u001b[0mdevice\u001b[0m\u001b[0;34m(\u001b[0m\u001b[0mdevice\u001b[0m\u001b[0;34m)\u001b[0m\u001b[0;34m:\u001b[0m\u001b[0;34m\u001b[0m\u001b[0;34m\u001b[0m\u001b[0m\n\u001b[0;32m--> 323\u001b[0;31m           \u001b[0mrestore_ops\u001b[0m\u001b[0;34m.\u001b[0m\u001b[0mupdate\u001b[0m\u001b[0;34m(\u001b[0m\u001b[0msaver\u001b[0m\u001b[0;34m.\u001b[0m\u001b[0mrestore\u001b[0m\u001b[0;34m(\u001b[0m\u001b[0mfile_prefix\u001b[0m\u001b[0;34m,\u001b[0m \u001b[0moptions\u001b[0m\u001b[0;34m)\u001b[0m\u001b[0;34m)\u001b[0m\u001b[0;34m\u001b[0m\u001b[0;34m\u001b[0m\u001b[0m\n\u001b[0m\u001b[1;32m    324\u001b[0m \u001b[0;34m\u001b[0m\u001b[0m\n\u001b[1;32m    325\u001b[0m       \u001b[0;32mreturn\u001b[0m \u001b[0mrestore_ops\u001b[0m\u001b[0;34m\u001b[0m\u001b[0;34m\u001b[0m\u001b[0m\n",
      "\u001b[0;32m~/anaconda3/envs/sleep/lib/python3.8/site-packages/tensorflow/python/training/saving/functional_saver.py\u001b[0m in \u001b[0;36mrestore\u001b[0;34m(self, file_prefix, options)\u001b[0m\n\u001b[1;32m    113\u001b[0m     for saveable, restored_tensors in zip(self._saveable_objects,\n\u001b[1;32m    114\u001b[0m                                           structured_restored_tensors):\n\u001b[0;32m--> 115\u001b[0;31m       restore_ops[saveable.name] = saveable.restore(\n\u001b[0m\u001b[1;32m    116\u001b[0m           restored_tensors, restored_shapes=None)\n\u001b[1;32m    117\u001b[0m     \u001b[0;32mreturn\u001b[0m \u001b[0mrestore_ops\u001b[0m\u001b[0;34m\u001b[0m\u001b[0;34m\u001b[0m\u001b[0m\n",
      "\u001b[0;32m~/anaconda3/envs/sleep/lib/python3.8/site-packages/tensorflow/python/training/saving/saveable_object_util.py\u001b[0m in \u001b[0;36mrestore\u001b[0;34m(self, restored_tensors, restored_shapes)\u001b[0m\n\u001b[1;32m    129\u001b[0m     \u001b[0;32mwith\u001b[0m \u001b[0mops\u001b[0m\u001b[0;34m.\u001b[0m\u001b[0mdevice\u001b[0m\u001b[0;34m(\u001b[0m\u001b[0mself\u001b[0m\u001b[0;34m.\u001b[0m\u001b[0m_var_device\u001b[0m\u001b[0;34m)\u001b[0m\u001b[0;34m:\u001b[0m\u001b[0;34m\u001b[0m\u001b[0;34m\u001b[0m\u001b[0m\n\u001b[1;32m    130\u001b[0m       \u001b[0mrestored_tensor\u001b[0m \u001b[0;34m=\u001b[0m \u001b[0marray_ops\u001b[0m\u001b[0;34m.\u001b[0m\u001b[0midentity\u001b[0m\u001b[0;34m(\u001b[0m\u001b[0mrestored_tensor\u001b[0m\u001b[0;34m)\u001b[0m\u001b[0;34m\u001b[0m\u001b[0;34m\u001b[0m\u001b[0m\n\u001b[0;32m--> 131\u001b[0;31m       return resource_variable_ops.shape_safe_assign_variable_handle(\n\u001b[0m\u001b[1;32m    132\u001b[0m           self.handle_op, self._var_shape, restored_tensor)\n\u001b[1;32m    133\u001b[0m \u001b[0;34m\u001b[0m\u001b[0m\n",
      "\u001b[0;32m~/anaconda3/envs/sleep/lib/python3.8/site-packages/tensorflow/python/ops/resource_variable_ops.py\u001b[0m in \u001b[0;36mshape_safe_assign_variable_handle\u001b[0;34m(handle, shape, value, name)\u001b[0m\n\u001b[1;32m    306\u001b[0m   \u001b[0;32mwith\u001b[0m \u001b[0m_handle_graph\u001b[0m\u001b[0;34m(\u001b[0m\u001b[0mhandle\u001b[0m\u001b[0;34m)\u001b[0m\u001b[0;34m:\u001b[0m\u001b[0;34m\u001b[0m\u001b[0;34m\u001b[0m\u001b[0m\n\u001b[1;32m    307\u001b[0m     \u001b[0mvalue_tensor\u001b[0m \u001b[0;34m=\u001b[0m \u001b[0mops\u001b[0m\u001b[0;34m.\u001b[0m\u001b[0mconvert_to_tensor\u001b[0m\u001b[0;34m(\u001b[0m\u001b[0mvalue\u001b[0m\u001b[0;34m)\u001b[0m\u001b[0;34m\u001b[0m\u001b[0;34m\u001b[0m\u001b[0m\n\u001b[0;32m--> 308\u001b[0;31m   \u001b[0mshape\u001b[0m\u001b[0;34m.\u001b[0m\u001b[0massert_is_compatible_with\u001b[0m\u001b[0;34m(\u001b[0m\u001b[0mvalue_tensor\u001b[0m\u001b[0;34m.\u001b[0m\u001b[0mshape\u001b[0m\u001b[0;34m)\u001b[0m\u001b[0;34m\u001b[0m\u001b[0;34m\u001b[0m\u001b[0m\n\u001b[0m\u001b[1;32m    309\u001b[0m   return gen_resource_variable_ops.assign_variable_op(\n\u001b[1;32m    310\u001b[0m       handle, value_tensor, name=name)\n",
      "\u001b[0;32m~/anaconda3/envs/sleep/lib/python3.8/site-packages/tensorflow/python/framework/tensor_shape.py\u001b[0m in \u001b[0;36massert_is_compatible_with\u001b[0;34m(self, other)\u001b[0m\n\u001b[1;32m   1159\u001b[0m     \"\"\"\n\u001b[1;32m   1160\u001b[0m     \u001b[0;32mif\u001b[0m \u001b[0;32mnot\u001b[0m \u001b[0mself\u001b[0m\u001b[0;34m.\u001b[0m\u001b[0mis_compatible_with\u001b[0m\u001b[0;34m(\u001b[0m\u001b[0mother\u001b[0m\u001b[0;34m)\u001b[0m\u001b[0;34m:\u001b[0m\u001b[0;34m\u001b[0m\u001b[0;34m\u001b[0m\u001b[0m\n\u001b[0;32m-> 1161\u001b[0;31m       \u001b[0;32mraise\u001b[0m \u001b[0mValueError\u001b[0m\u001b[0;34m(\u001b[0m\u001b[0;34m\"Shapes %s and %s are incompatible\"\u001b[0m \u001b[0;34m%\u001b[0m \u001b[0;34m(\u001b[0m\u001b[0mself\u001b[0m\u001b[0;34m,\u001b[0m \u001b[0mother\u001b[0m\u001b[0;34m)\u001b[0m\u001b[0;34m)\u001b[0m\u001b[0;34m\u001b[0m\u001b[0;34m\u001b[0m\u001b[0m\n\u001b[0m\u001b[1;32m   1162\u001b[0m \u001b[0;34m\u001b[0m\u001b[0m\n\u001b[1;32m   1163\u001b[0m   \u001b[0;32mdef\u001b[0m \u001b[0mmost_specific_compatible_shape\u001b[0m\u001b[0;34m(\u001b[0m\u001b[0mself\u001b[0m\u001b[0;34m,\u001b[0m \u001b[0mother\u001b[0m\u001b[0;34m)\u001b[0m\u001b[0;34m:\u001b[0m\u001b[0;34m\u001b[0m\u001b[0;34m\u001b[0m\u001b[0m\n",
      "\u001b[0;31mValueError\u001b[0m: Shapes (28160, 6) and (2560, 6) are incompatible"
     ]
    }
   ],
   "source": [
    "if manager2.latest_checkpoint:\n",
    "    ckpt2.restore(manager2.latest_checkpoint)\n",
    "    start_epoch = ckpt2.step.numpy()-1"
   ]
  },
  {
   "cell_type": "code",
   "execution_count": 104,
   "id": "e0b8e84b",
   "metadata": {},
   "outputs": [
    {
     "name": "stdout",
     "output_type": "stream",
     "text": [
      "[50 / 2131] test loss: 1.804487, test accuracy: 0.050\r"
     ]
    },
    {
     "ename": "KeyboardInterrupt",
     "evalue": "",
     "output_type": "error",
     "traceback": [
      "\u001b[0;31m---------------------------------------------------------------------------\u001b[0m",
      "\u001b[0;31mKeyboardInterrupt\u001b[0m                         Traceback (most recent call last)",
      "\u001b[0;32m/tmp/ipykernel_5380/1187893268.py\u001b[0m in \u001b[0;36m<module>\u001b[0;34m\u001b[0m\n\u001b[1;32m      2\u001b[0m \u001b[0mstart\u001b[0m \u001b[0;34m=\u001b[0m \u001b[0mtime\u001b[0m\u001b[0;34m.\u001b[0m\u001b[0mtime\u001b[0m\u001b[0;34m(\u001b[0m\u001b[0;34m)\u001b[0m\u001b[0;34m\u001b[0m\u001b[0;34m\u001b[0m\u001b[0m\n\u001b[1;32m      3\u001b[0m \u001b[0my_list2\u001b[0m\u001b[0;34m,\u001b[0m \u001b[0my_pred_list2\u001b[0m \u001b[0;34m=\u001b[0m \u001b[0;34m[\u001b[0m\u001b[0;34m]\u001b[0m\u001b[0;34m,\u001b[0m \u001b[0;34m[\u001b[0m\u001b[0;34m]\u001b[0m\u001b[0;34m\u001b[0m\u001b[0;34m\u001b[0m\u001b[0m\n\u001b[0;32m----> 4\u001b[0;31m \u001b[0;32mfor\u001b[0m \u001b[0midx\u001b[0m\u001b[0;34m,\u001b[0m \u001b[0;34m(\u001b[0m\u001b[0mx\u001b[0m\u001b[0;34m,\u001b[0m \u001b[0my\u001b[0m\u001b[0;34m)\u001b[0m \u001b[0;32min\u001b[0m \u001b[0menumerate\u001b[0m\u001b[0;34m(\u001b[0m\u001b[0mtest_generator2\u001b[0m\u001b[0;34m)\u001b[0m\u001b[0;34m:\u001b[0m\u001b[0;34m\u001b[0m\u001b[0;34m\u001b[0m\u001b[0m\n\u001b[0m\u001b[1;32m      5\u001b[0m     \u001b[0my_pred\u001b[0m \u001b[0;34m=\u001b[0m \u001b[0mmodel2\u001b[0m\u001b[0;34m(\u001b[0m\u001b[0mx\u001b[0m\u001b[0;34m,\u001b[0m \u001b[0mtraining\u001b[0m\u001b[0;34m=\u001b[0m\u001b[0;32mFalse\u001b[0m\u001b[0;34m)\u001b[0m\u001b[0;34m\u001b[0m\u001b[0;34m\u001b[0m\u001b[0m\n\u001b[1;32m      6\u001b[0m     \u001b[0my_pred_cls\u001b[0m \u001b[0;34m=\u001b[0m \u001b[0mtf\u001b[0m\u001b[0;34m.\u001b[0m\u001b[0mmath\u001b[0m\u001b[0;34m.\u001b[0m\u001b[0margmax\u001b[0m\u001b[0;34m(\u001b[0m\u001b[0my_pred\u001b[0m\u001b[0;34m,\u001b[0m \u001b[0maxis\u001b[0m\u001b[0;34m=\u001b[0m\u001b[0;34m-\u001b[0m\u001b[0;36m1\u001b[0m\u001b[0;34m)\u001b[0m\u001b[0;34m\u001b[0m\u001b[0;34m\u001b[0m\u001b[0m\n",
      "\u001b[0;32m~/anaconda3/envs/sleep/lib/python3.8/site-packages/tensorflow/python/keras/utils/data_utils.py\u001b[0m in \u001b[0;36m__iter__\u001b[0;34m(self)\u001b[0m\n\u001b[1;32m    465\u001b[0m   \u001b[0;32mdef\u001b[0m \u001b[0m__iter__\u001b[0m\u001b[0;34m(\u001b[0m\u001b[0mself\u001b[0m\u001b[0;34m)\u001b[0m\u001b[0;34m:\u001b[0m\u001b[0;34m\u001b[0m\u001b[0;34m\u001b[0m\u001b[0m\n\u001b[1;32m    466\u001b[0m     \u001b[0;34m\"\"\"Create a generator that iterate over the Sequence.\"\"\"\u001b[0m\u001b[0;34m\u001b[0m\u001b[0;34m\u001b[0m\u001b[0m\n\u001b[0;32m--> 467\u001b[0;31m     \u001b[0;32mfor\u001b[0m \u001b[0mitem\u001b[0m \u001b[0;32min\u001b[0m \u001b[0;34m(\u001b[0m\u001b[0mself\u001b[0m\u001b[0;34m[\u001b[0m\u001b[0mi\u001b[0m\u001b[0;34m]\u001b[0m \u001b[0;32mfor\u001b[0m \u001b[0mi\u001b[0m \u001b[0;32min\u001b[0m \u001b[0mrange\u001b[0m\u001b[0;34m(\u001b[0m\u001b[0mlen\u001b[0m\u001b[0;34m(\u001b[0m\u001b[0mself\u001b[0m\u001b[0;34m)\u001b[0m\u001b[0;34m)\u001b[0m\u001b[0;34m)\u001b[0m\u001b[0;34m:\u001b[0m\u001b[0;34m\u001b[0m\u001b[0;34m\u001b[0m\u001b[0m\n\u001b[0m\u001b[1;32m    468\u001b[0m       \u001b[0;32myield\u001b[0m \u001b[0mitem\u001b[0m\u001b[0;34m\u001b[0m\u001b[0;34m\u001b[0m\u001b[0m\n\u001b[1;32m    469\u001b[0m \u001b[0;34m\u001b[0m\u001b[0m\n",
      "\u001b[0;32m~/anaconda3/envs/sleep/lib/python3.8/site-packages/tensorflow/python/keras/utils/data_utils.py\u001b[0m in \u001b[0;36m<genexpr>\u001b[0;34m(.0)\u001b[0m\n\u001b[1;32m    465\u001b[0m   \u001b[0;32mdef\u001b[0m \u001b[0m__iter__\u001b[0m\u001b[0;34m(\u001b[0m\u001b[0mself\u001b[0m\u001b[0;34m)\u001b[0m\u001b[0;34m:\u001b[0m\u001b[0;34m\u001b[0m\u001b[0;34m\u001b[0m\u001b[0m\n\u001b[1;32m    466\u001b[0m     \u001b[0;34m\"\"\"Create a generator that iterate over the Sequence.\"\"\"\u001b[0m\u001b[0;34m\u001b[0m\u001b[0;34m\u001b[0m\u001b[0m\n\u001b[0;32m--> 467\u001b[0;31m     \u001b[0;32mfor\u001b[0m \u001b[0mitem\u001b[0m \u001b[0;32min\u001b[0m \u001b[0;34m(\u001b[0m\u001b[0mself\u001b[0m\u001b[0;34m[\u001b[0m\u001b[0mi\u001b[0m\u001b[0;34m]\u001b[0m \u001b[0;32mfor\u001b[0m \u001b[0mi\u001b[0m \u001b[0;32min\u001b[0m \u001b[0mrange\u001b[0m\u001b[0;34m(\u001b[0m\u001b[0mlen\u001b[0m\u001b[0;34m(\u001b[0m\u001b[0mself\u001b[0m\u001b[0;34m)\u001b[0m\u001b[0;34m)\u001b[0m\u001b[0;34m)\u001b[0m\u001b[0;34m:\u001b[0m\u001b[0;34m\u001b[0m\u001b[0;34m\u001b[0m\u001b[0m\n\u001b[0m\u001b[1;32m    468\u001b[0m       \u001b[0;32myield\u001b[0m \u001b[0mitem\u001b[0m\u001b[0;34m\u001b[0m\u001b[0;34m\u001b[0m\u001b[0m\n\u001b[1;32m    469\u001b[0m \u001b[0;34m\u001b[0m\u001b[0m\n",
      "\u001b[0;32m~/sleep/JupyterNotebooks/../Data/datagen.py\u001b[0m in \u001b[0;36m__getitem__\u001b[0;34m(self, index)\u001b[0m\n\u001b[1;32m     37\u001b[0m         \u001b[0mdata_index\u001b[0m \u001b[0;34m=\u001b[0m \u001b[0mself\u001b[0m\u001b[0;34m.\u001b[0m\u001b[0mdata_indexes\u001b[0m\u001b[0;34m[\u001b[0m\u001b[0mself\u001b[0m\u001b[0;34m.\u001b[0m\u001b[0mfile_indexes\u001b[0m\u001b[0;34m[\u001b[0m\u001b[0mcurr_file_idx\u001b[0m\u001b[0;34m]\u001b[0m\u001b[0;34m]\u001b[0m\u001b[0;34m\u001b[0m\u001b[0;34m\u001b[0m\u001b[0m\n\u001b[1;32m     38\u001b[0m \u001b[0;34m\u001b[0m\u001b[0m\n\u001b[0;32m---> 39\u001b[0;31m         \u001b[0mcurr_np\u001b[0m \u001b[0;34m=\u001b[0m \u001b[0mnp\u001b[0m\u001b[0;34m.\u001b[0m\u001b[0mload\u001b[0m\u001b[0;34m(\u001b[0m\u001b[0mcurr_file\u001b[0m\u001b[0;34m)\u001b[0m\u001b[0;34m\u001b[0m\u001b[0;34m\u001b[0m\u001b[0m\n\u001b[0m\u001b[1;32m     40\u001b[0m         \u001b[0mcurr_ann\u001b[0m \u001b[0;34m=\u001b[0m \u001b[0mnp\u001b[0m\u001b[0;34m.\u001b[0m\u001b[0mload\u001b[0m\u001b[0;34m(\u001b[0m\u001b[0mcurr_ann_file\u001b[0m\u001b[0;34m)\u001b[0m\u001b[0;34m\u001b[0m\u001b[0;34m\u001b[0m\u001b[0m\n\u001b[1;32m     41\u001b[0m         \u001b[0mcurr_np\u001b[0m \u001b[0;34m=\u001b[0m \u001b[0mcurr_np\u001b[0m\u001b[0;34m[\u001b[0m\u001b[0mdata_index\u001b[0m\u001b[0;34m]\u001b[0m\u001b[0;34m\u001b[0m\u001b[0;34m\u001b[0m\u001b[0m\n",
      "\u001b[0;32m~/anaconda3/envs/sleep/lib/python3.8/site-packages/numpy/lib/npyio.py\u001b[0m in \u001b[0;36mload\u001b[0;34m(file, mmap_mode, allow_pickle, fix_imports, encoding)\u001b[0m\n\u001b[1;32m    437\u001b[0m                 \u001b[0;32mreturn\u001b[0m \u001b[0mformat\u001b[0m\u001b[0;34m.\u001b[0m\u001b[0mopen_memmap\u001b[0m\u001b[0;34m(\u001b[0m\u001b[0mfile\u001b[0m\u001b[0;34m,\u001b[0m \u001b[0mmode\u001b[0m\u001b[0;34m=\u001b[0m\u001b[0mmmap_mode\u001b[0m\u001b[0;34m)\u001b[0m\u001b[0;34m\u001b[0m\u001b[0;34m\u001b[0m\u001b[0m\n\u001b[1;32m    438\u001b[0m             \u001b[0;32melse\u001b[0m\u001b[0;34m:\u001b[0m\u001b[0;34m\u001b[0m\u001b[0;34m\u001b[0m\u001b[0m\n\u001b[0;32m--> 439\u001b[0;31m                 return format.read_array(fid, allow_pickle=allow_pickle,\n\u001b[0m\u001b[1;32m    440\u001b[0m                                          pickle_kwargs=pickle_kwargs)\n\u001b[1;32m    441\u001b[0m         \u001b[0;32melse\u001b[0m\u001b[0;34m:\u001b[0m\u001b[0;34m\u001b[0m\u001b[0;34m\u001b[0m\u001b[0m\n",
      "\u001b[0;32m~/anaconda3/envs/sleep/lib/python3.8/site-packages/numpy/lib/format.py\u001b[0m in \u001b[0;36mread_array\u001b[0;34m(fp, allow_pickle, pickle_kwargs)\u001b[0m\n\u001b[1;32m    739\u001b[0m         \u001b[0;32mif\u001b[0m \u001b[0misfileobj\u001b[0m\u001b[0;34m(\u001b[0m\u001b[0mfp\u001b[0m\u001b[0;34m)\u001b[0m\u001b[0;34m:\u001b[0m\u001b[0;34m\u001b[0m\u001b[0;34m\u001b[0m\u001b[0m\n\u001b[1;32m    740\u001b[0m             \u001b[0;31m# We can use the fast fromfile() function.\u001b[0m\u001b[0;34m\u001b[0m\u001b[0;34m\u001b[0m\u001b[0;34m\u001b[0m\u001b[0m\n\u001b[0;32m--> 741\u001b[0;31m             \u001b[0marray\u001b[0m \u001b[0;34m=\u001b[0m \u001b[0mnumpy\u001b[0m\u001b[0;34m.\u001b[0m\u001b[0mfromfile\u001b[0m\u001b[0;34m(\u001b[0m\u001b[0mfp\u001b[0m\u001b[0;34m,\u001b[0m \u001b[0mdtype\u001b[0m\u001b[0;34m=\u001b[0m\u001b[0mdtype\u001b[0m\u001b[0;34m,\u001b[0m \u001b[0mcount\u001b[0m\u001b[0;34m=\u001b[0m\u001b[0mcount\u001b[0m\u001b[0;34m)\u001b[0m\u001b[0;34m\u001b[0m\u001b[0;34m\u001b[0m\u001b[0m\n\u001b[0m\u001b[1;32m    742\u001b[0m         \u001b[0;32melse\u001b[0m\u001b[0;34m:\u001b[0m\u001b[0;34m\u001b[0m\u001b[0;34m\u001b[0m\u001b[0m\n\u001b[1;32m    743\u001b[0m             \u001b[0;31m# This is not a real file. We have to read it the\u001b[0m\u001b[0;34m\u001b[0m\u001b[0;34m\u001b[0m\u001b[0;34m\u001b[0m\u001b[0m\n",
      "\u001b[0;31mKeyboardInterrupt\u001b[0m: "
     ]
    }
   ],
   "source": [
    "correct, total_cnt, total_loss = 0.0, 0.0, 0.0\n",
    "start = time.time()\n",
    "y_list2, y_pred_list2 = [], []\n",
    "for idx, (x, y) in enumerate(test_generator2):\n",
    "    y_pred = model2(x, training=False)\n",
    "    y_pred_cls = tf.math.argmax(y_pred, axis=-1)\n",
    "    y_pred_list2.append(y_pred_cls)\n",
    "    correct += tf.reduce_sum(tf.cast(tf.equal(y_pred_cls, y), tf.float32))\n",
    "    total_cnt += y_pred.shape[0]\n",
    "    y = tf.cast(y, dtype=tf.int32)  \n",
    "    y_list2.append(y)\n",
    "    total_loss += loss_fn(y, y_pred).numpy() * y_pred.shape[0]    \n",
    "\n",
    "    test_acc = correct / total_cnt\n",
    "    test_loss = total_loss / total_cnt\n",
    "    if (idx + 1) % 10 == 0 or idx+1 == len(test_generator2):\n",
    "        print(\"[%d / %d] test loss: %.6f, test accuracy: %.3f\"%\n",
    "              (idx+1, len(test_generator2), test_loss, test_acc),end='\\r', flush=True)\n",
    "print(\"\")\n",
    "print(\"Eval time: %.2f sec\"%(time.time() - start))"
   ]
  },
  {
   "cell_type": "code",
   "execution_count": null,
   "id": "66810a9e",
   "metadata": {},
   "outputs": [],
   "source": []
  }
 ],
 "metadata": {
  "kernelspec": {
   "display_name": "Python 3 (ipykernel)",
   "language": "python",
   "name": "python3"
  },
  "language_info": {
   "codemirror_mode": {
    "name": "ipython",
    "version": 3
   },
   "file_extension": ".py",
   "mimetype": "text/x-python",
   "name": "python",
   "nbconvert_exporter": "python",
   "pygments_lexer": "ipython3",
   "version": "3.8.12"
  }
 },
 "nbformat": 4,
 "nbformat_minor": 5
}
