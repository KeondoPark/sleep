{
 "cells": [
  {
   "cell_type": "code",
   "execution_count": 1,
   "id": "643d8133",
   "metadata": {},
   "outputs": [],
   "source": [
    "import numpy as np"
   ]
  },
  {
   "cell_type": "code",
   "execution_count": 2,
   "id": "ea39ff82",
   "metadata": {},
   "outputs": [],
   "source": [
    "score = np.array([0.5, 0.3, 0.9, 0.6, 0.2, 0.4])\n",
    "I = np.argsort(score)"
   ]
  },
  {
   "cell_type": "code",
   "execution_count": 3,
   "id": "3c2819b8",
   "metadata": {},
   "outputs": [],
   "source": [
    "under_thr_i= np.where(score[I] > 0.4)[0]"
   ]
  },
  {
   "cell_type": "code",
   "execution_count": 4,
   "id": "3866fc09",
   "metadata": {},
   "outputs": [],
   "source": [
    "I = np.delete(I, np.arange(under_thr_i[0]))"
   ]
  },
  {
   "cell_type": "code",
   "execution_count": 5,
   "id": "78518e08",
   "metadata": {},
   "outputs": [
    {
     "data": {
      "text/plain": [
       "array([0.5, 0.6, 0.9])"
      ]
     },
     "execution_count": 5,
     "metadata": {},
     "output_type": "execute_result"
    }
   ],
   "source": [
    "score[I]"
   ]
  },
  {
   "cell_type": "code",
   "execution_count": 61,
   "id": "cabf118f",
   "metadata": {},
   "outputs": [],
   "source": [
    "pc = np.array([[0,1,1],[0,0,1],[1,0,0],[0,1,0],[3,4,5]])"
   ]
  },
  {
   "cell_type": "code",
   "execution_count": 62,
   "id": "85b477ee",
   "metadata": {},
   "outputs": [],
   "source": [
    "n = pc.shape[0]\n",
    "x = np.tile(np.expand_dims(pc,1), [1,n,1])\n",
    "y = np.empty((n,n,3))\n",
    "y[:] = np.tile(np.expand_dims(pc,0), [n,1,1])\n",
    "dist = np.sum((x - y) ** 2, axis=2) ** 0.5 # n by n matrix"
   ]
  },
  {
   "cell_type": "code",
   "execution_count": 92,
   "id": "2c4ba316",
   "metadata": {},
   "outputs": [
    {
     "data": {
      "text/plain": [
       "array([0, 1, 3])"
      ]
     },
     "execution_count": 92,
     "metadata": {},
     "output_type": "execute_result"
    }
   ],
   "source": [
    "np.where(close_pts_arr[0])[0]"
   ]
  },
  {
   "cell_type": "code",
   "execution_count": 97,
   "id": "b5826b0c",
   "metadata": {},
   "outputs": [],
   "source": [
    "instances_list = []\n",
    "thr = 1.5\n",
    "close_pts_arr = np.where(dist < thr, True, False)\n",
    "for i in range(n):\n",
    "    included = False\n",
    "    for inst in instances_list:\n",
    "        if i in inst:            \n",
    "            included = True\n",
    "            break            \n",
    "    if not included:\n",
    "        instances_list.append(set(np.where(close_pts_arr[i])[0]))\n",
    "        \n",
    "for i in range(len(instances_list)):\n",
    "    for j in range(i+1,len(instances_list)):\n",
    "        if len(instances_list[i].intersection(instances_list[j])) > 0:\n",
    "            instances_list[i] = instances_list[i].union(instances_list[j])\n",
    "            instances_list[j] = set()"
   ]
  },
  {
   "cell_type": "code",
   "execution_count": 98,
   "id": "ec593921",
   "metadata": {},
   "outputs": [
    {
     "data": {
      "text/plain": [
       "[{0, 1, 2, 3}, set(), {4}]"
      ]
     },
     "execution_count": 98,
     "metadata": {},
     "output_type": "execute_result"
    }
   ],
   "source": [
    "instances_list"
   ]
  },
  {
   "cell_type": "code",
   "execution_count": 88,
   "id": "a7666768",
   "metadata": {},
   "outputs": [],
   "source": [
    "instances_list = []\n",
    "thr = 1.5\n",
    "close_pts_arr = np.where(dist < thr, True, False)\n",
    "close_pts_list = [list(np.where(close_pts_arr[i])[0]) for i in range(len(close_pts_arr))]\n",
    "for i in range(n):\n",
    "    included = False\n",
    "    new_pts = close_pts_list[i]\n",
    "    for inst in instances_list:\n",
    "        if i in inst:            \n",
    "            inst.extend(new_pts)\n",
    "            included = True\n",
    "    if not included:\n",
    "        instances_list.append(new_pts)\n",
    "\n",
    "instances_list = [set(inst) for inst in instances_list]\n",
    "\n",
    "for i in range(len(instances_list)):\n",
    "    for j in range(i+1,len(instances_list)):\n",
    "        if len(instances_list[i].intersection(instances_list[j])) > 0:\n",
    "            instances_list[i] = instances_list[i].union(instances_list[j])\n",
    "            instances_list[j] = set()\n",
    "\n",
    "#    if sum([len(inst) for inst in instances_list]) == n: break"
   ]
  },
  {
   "cell_type": "code",
   "execution_count": 89,
   "id": "6da10d4d",
   "metadata": {},
   "outputs": [
    {
     "data": {
      "text/plain": [
       "[{0, 1, 2, 3}, {4}]"
      ]
     },
     "execution_count": 89,
     "metadata": {},
     "output_type": "execute_result"
    }
   ],
   "source": [
    "instances_list"
   ]
  },
  {
   "cell_type": "code",
   "execution_count": 80,
   "id": "3bbe887b",
   "metadata": {},
   "outputs": [
    {
     "data": {
      "text/plain": [
       "[{0, 1, 2, 3}, set(), {4}]"
      ]
     },
     "execution_count": 80,
     "metadata": {},
     "output_type": "execute_result"
    }
   ],
   "source": [
    "instances_list"
   ]
  },
  {
   "cell_type": "code",
   "execution_count": 27,
   "id": "a1113ea8",
   "metadata": {},
   "outputs": [
    {
     "name": "stdout",
     "output_type": "stream",
     "text": [
      "{0}\n",
      "{0}\n",
      "{0}\n",
      "{0}\n",
      "set()\n"
     ]
    }
   ],
   "source": [
    "instances_list = []\n",
    "thr = 2\n",
    "#close_pts_list = [set(np.where(dist[j,:] < thr)[0]) for j in range(n)]\n",
    "close_pts_arr = np.where(dist < thr, True, False)[0]\n",
    "\n",
    "for i in range(1, n):    \n",
    "    included = False\n",
    "    for inst_set in instances_list:\n",
    "        if i in inst_set:\n",
    "            included = True\n",
    "            break\n",
    "    if not included:\n",
    "        close_pts = set()           \n",
    "        q = [i]\n",
    "        while q:\n",
    "            j = q.pop()\n",
    "            #if j in close_pts: continue\n",
    "            #new_pts = close_pts_list[j]\n",
    "            new_pts = set(np.where(close_pts_arr[j])[0])\n",
    "            print(new_pts)\n",
    "            add_pts = new_pts - close_pts\n",
    "            q += list(add_pts)\n",
    "            close_pts = close_pts.union(add_pts)\n",
    "        \n",
    "        instances_list.append(close_pts)\n",
    "centroids = []\n",
    "for s in instances_list:\n",
    "    cent = np.mean(pc[list(s),:], axis=0)\n",
    "    centroids.append(cent)\n",
    "    \n",
    "    "
   ]
  },
  {
   "cell_type": "code",
   "execution_count": 29,
   "id": "3fbbe8ca",
   "metadata": {},
   "outputs": [
    {
     "data": {
      "text/plain": [
       "array([[0.        , 1.41421356, 1.41421356, 6.40312424],\n",
       "       [1.41421356, 0.        , 1.41421356, 6.70820393],\n",
       "       [1.41421356, 1.41421356, 0.        , 6.55743852],\n",
       "       [6.40312424, 6.70820393, 6.55743852, 0.        ]])"
      ]
     },
     "execution_count": 29,
     "metadata": {},
     "output_type": "execute_result"
    }
   ],
   "source": [
    "dist"
   ]
  },
  {
   "cell_type": "code",
   "execution_count": 26,
   "id": "03a2d585",
   "metadata": {},
   "outputs": [
    {
     "data": {
      "text/plain": [
       "[array([0., 0., 1.]), array([0., 0., 1.]), array([nan, nan, nan])]"
      ]
     },
     "execution_count": 26,
     "metadata": {},
     "output_type": "execute_result"
    }
   ],
   "source": [
    "centroids"
   ]
  },
  {
   "cell_type": "code",
   "execution_count": 15,
   "id": "db1a32f3",
   "metadata": {},
   "outputs": [],
   "source": [
    "a = np.where(dist < thr, True, False)"
   ]
  },
  {
   "cell_type": "code",
   "execution_count": 18,
   "id": "5d43f8a5",
   "metadata": {},
   "outputs": [
    {
     "data": {
      "text/plain": [
       "array([ True,  True,  True, False])"
      ]
     },
     "execution_count": 18,
     "metadata": {},
     "output_type": "execute_result"
    }
   ],
   "source": [
    "a[0]"
   ]
  },
  {
   "cell_type": "code",
   "execution_count": 22,
   "id": "4fb9046a",
   "metadata": {},
   "outputs": [
    {
     "data": {
      "text/plain": [
       "{0, 1, 2}"
      ]
     },
     "execution_count": 22,
     "metadata": {},
     "output_type": "execute_result"
    }
   ],
   "source": [
    "set(np.where(a[0])[0])"
   ]
  },
  {
   "cell_type": "code",
   "execution_count": 9,
   "id": "0d138387",
   "metadata": {},
   "outputs": [
    {
     "data": {
      "text/plain": [
       "array([[0.        , 1.41421356, 1.41421356, 6.40312424],\n",
       "       [1.41421356, 0.        , 1.41421356, 6.70820393],\n",
       "       [1.41421356, 1.41421356, 0.        , 6.55743852],\n",
       "       [6.40312424, 6.70820393, 6.55743852, 0.        ]])"
      ]
     },
     "execution_count": 9,
     "metadata": {},
     "output_type": "execute_result"
    }
   ],
   "source": [
    "dist"
   ]
  },
  {
   "cell_type": "code",
   "execution_count": null,
   "id": "f20ee2fe",
   "metadata": {},
   "outputs": [],
   "source": []
  }
 ],
 "metadata": {
  "kernelspec": {
   "display_name": "Python 3 (ipykernel)",
   "language": "python",
   "name": "python3"
  },
  "language_info": {
   "codemirror_mode": {
    "name": "ipython",
    "version": 3
   },
   "file_extension": ".py",
   "mimetype": "text/x-python",
   "name": "python",
   "nbconvert_exporter": "python",
   "pygments_lexer": "ipython3",
   "version": "3.8.12"
  }
 },
 "nbformat": 4,
 "nbformat_minor": 5
}
