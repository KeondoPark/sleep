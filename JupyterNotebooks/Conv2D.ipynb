{
 "cells": [
  {
   "cell_type": "code",
   "execution_count": 1,
   "id": "17e3cb7e",
   "metadata": {},
   "outputs": [
    {
     "name": "stderr",
     "output_type": "stream",
     "text": [
      "2022-02-22 11:45:20.407566: I tensorflow/stream_executor/platform/default/dso_loader.cc:53] Successfully opened dynamic library libcudart.so.11.0\n"
     ]
    }
   ],
   "source": [
    "import numpy as np\n",
    "import tensorflow as tf\n",
    "import keras\n",
    "import os"
   ]
  },
  {
   "cell_type": "code",
   "execution_count": 2,
   "id": "2fde0cdb",
   "metadata": {},
   "outputs": [],
   "source": [
    "class DataGenerator(tf.compat.v2.keras.utils.Sequence):\n",
    "    def __init__(self, data_path, ann_path, list_files, list_ann_files, \n",
    "                 batch_size=64, dim=(3000, 35), n_classes=6, shuffle=True):\n",
    "        # Constructor of the data generator.\n",
    "        self.dim = dim\n",
    "        self.batch_size = batch_size\n",
    "        self.data_path = data_path\n",
    "        self.ann_path = ann_path\n",
    "        self.list_files = list_files\n",
    "        self.list_ann_files = list_ann_files\n",
    "        self.n_classes = n_classes\n",
    "        self.shuffle = shuffle\n",
    "        self.get_cnts() #Get the data count for each file        \n",
    "        self.on_epoch_end() #Initialize file indexes        \n",
    "        \n",
    "\n",
    "    def __len__(self):\n",
    "        # Denotes the number of batches per epoch\n",
    "        return int((self.total_len+1) / self.batch_size)\n",
    "    \n",
    "\n",
    "    def __getitem__(self, index):\n",
    "        \n",
    "        start = index*self.batch_size\n",
    "        end = min((index+1)*self.batch_size, self.total_len)\n",
    "        \n",
    "        X = np.empty((end - start,) + self.dim, dtype=np.float32)\n",
    "        y = np.empty((end - start,), dtype=np.int32)\n",
    "        \n",
    "        curr_file_idx, accum_start, accum_end = self.get_accum_idx(index)\n",
    "        \n",
    "        curr_file = self.list_files[self.file_indexes[curr_file_idx]]\n",
    "        curr_ann_file = self.list_ann_files[self.file_indexes[curr_file_idx]]\n",
    "        curr_np = np.load(os.path.join(self.data_path, curr_file))\n",
    "        curr_ann = np.load(os.path.join(self.ann_path, curr_ann_file))        \n",
    "        \n",
    "        X_1 = curr_np[start - accum_start:end - accum_start] \n",
    "        y_1 = curr_ann[start - accum_start:end - accum_start]\n",
    "        from_curr = min(accum_end - start, end - start)\n",
    "        X[:from_curr] = np.expand_dims(X_1, axis=-1)\n",
    "        y[:from_curr] = y_1\n",
    "        \n",
    "        if end > accum_end:\n",
    "            curr_file_idx += 1\n",
    "            accum_start = accum_end\n",
    "            accum_end += self.list_cnt[self.file_indexes[curr_file_idx]]\n",
    "            curr_file = self.list_files[self.file_indexes[curr_file_idx]]\n",
    "            curr_ann_file = self.list_ann_files[self.file_indexes[curr_file_idx]]\n",
    "            curr_np = np.load(os.path.join(self.data_path, curr_file))\n",
    "            curr_ann = np.load(os.path.join(self.ann_path, curr_ann_file))\n",
    "            \n",
    "            X_2 = curr_np[:end - accum_start]\n",
    "            y_2 = curr_ann[:end - accum_start]\n",
    "            X[from_curr:] = np.expand_dims(X_2, axis=-1)\n",
    "            y[from_curr:] = y_2\n",
    "        #X = np.expand_dims(X, axis=-1)\n",
    "        return X, y\n",
    "    '''\n",
    "    # Get the next data and annotations\n",
    "    # Update accumulated data count\n",
    "    def update_pointers(self):\n",
    "        self.curr_file_idx += 1\n",
    "        curr_file = self.list_files[self.file_indexes[self.curr_file_idx]]\n",
    "        curr_ann_file = self.list_ann_files[self.file_indexes[self.curr_file_idx]]\n",
    "        self.curr_np = np.load(os.path.join(self.data_path, curr_file))\n",
    "        self.curr_ann = np.load(os.path.join(self.ann_path, curr_ann_file))\n",
    "        self.accum_start = self.accum_end\n",
    "        self.accum_end += self.list_cnt[self.file_indexes[self.curr_file_idx]]   \n",
    "    ''' \n",
    "    def get_accum_idx(self, index):\n",
    "        curr_file_idx = 0\n",
    "        accum_start = 0\n",
    "        accum_end = self.list_cnt[self.file_indexes[0]]\n",
    "        for i in range(len(self.file_indexes)):\n",
    "            if index * self.batch_size < accum_end:\n",
    "                curr_file_idx = i                \n",
    "                break            \n",
    "            accum_start += self.list_cnt[self.file_indexes[i]]\n",
    "            accum_end += self.list_cnt[self.file_indexes[i+1]]\n",
    "        \n",
    "        return curr_file_idx, accum_start, accum_end\n",
    "        \n",
    "\n",
    "    def on_epoch_end(self):        \n",
    "        self.curr_file_idx = 0\n",
    "        # This function is called at the end of each epoch.\n",
    "        self.file_indexes = np.arange(len(self.list_files)) #This is necessary to shuffle files\n",
    "        if self.shuffle == True:\n",
    "            np.random.shuffle(self.file_indexes)\n",
    "            \n",
    "        self.accum_start = 0 \n",
    "        self.accum_end = self.list_cnt[self.file_indexes[0]]         \n",
    "        self.curr_np = np.load(os.path.join(self.data_path, self.list_files[self.file_indexes[0]]))\n",
    "        self.curr_ann = np.load(os.path.join(self.ann_path, self.list_ann_files[self.file_indexes[0]]))\n",
    "            \n",
    "    def get_cnts(self):\n",
    "        list_cnt = []\n",
    "        for f in self.list_files:\n",
    "            temp_np = np.load(os.path.join(self.data_path, f))\n",
    "            cnt_data = temp_np.shape[0]\n",
    "            list_cnt.append(cnt_data)\n",
    "            \n",
    "        self.list_cnt = list_cnt\n",
    "        self.total_len = sum(list_cnt)    "
   ]
  },
  {
   "cell_type": "code",
   "execution_count": 3,
   "id": "9df9c4e4",
   "metadata": {},
   "outputs": [],
   "source": [
    "#curr_path = os.getcwd() + '/'\n",
    "PROCESSED_DATA_PATH = os.path.join('/home','aiot','data','origin_npy')\n",
    "HT2D_path = os.path.join(PROCESSED_DATA_PATH, 'HT2D_SC')\n",
    "save_signals_path = os.path.join(PROCESSED_DATA_PATH,'signals_SC')\n",
    "save_annotations_path = os.path.join(PROCESSED_DATA_PATH,'annotations_SC')"
   ]
  },
  {
   "cell_type": "code",
   "execution_count": 4,
   "id": "457af95c",
   "metadata": {},
   "outputs": [],
   "source": [
    "def match_annotations_npy(dirname, filename):\n",
    "    search_filename = filename.split('-')[0][:-2]\n",
    "    file_list = os.listdir(dirname)\n",
    "    filenames = [file for file in file_list if search_filename in file if file.endswith('.npy')]\n",
    "\n",
    "    return filenames"
   ]
  },
  {
   "cell_type": "code",
   "execution_count": 5,
   "id": "f3d64b31",
   "metadata": {},
   "outputs": [],
   "source": [
    "dim_HT2D = (3000,35,1)\n",
    "n_classes=6\n",
    "epochs = 50\n",
    "bs = 64\n",
    "list_files = [f for f in os.listdir(HT2D_path) if f.endswith('.npy')]"
   ]
  },
  {
   "cell_type": "code",
   "execution_count": 6,
   "id": "1c9ef7f3",
   "metadata": {},
   "outputs": [],
   "source": [
    "def read_csv_to_list(filepath):\n",
    "    import csv\n",
    "    with open(filepath, newline='') as csvfile:\n",
    "        spamreader = csv.reader(csvfile, delimiter=',')\n",
    "        list_filepath = [row[0] for row in spamreader]\n",
    "    return list_filepath"
   ]
  },
  {
   "cell_type": "code",
   "execution_count": 7,
   "id": "ccc54e0a",
   "metadata": {},
   "outputs": [],
   "source": [
    "SC_train = os.path.join('/home','aiot','data','origin_npy','SC_train.csv')\n",
    "SC_test = os.path.join('/home','aiot','data','origin_npy','SC_test.csv')\n",
    "\n",
    "list_files_train = read_csv_to_list(SC_train)\n",
    "list_files_test = read_csv_to_list(SC_test)\n",
    "\n",
    "list_files_train = [f + '_HT2D.npy' for f in list_files_train]\n",
    "list_files_test = [f + '_HT2D.npy' for f in list_files_test]\n",
    "\n",
    "list_ann_files_train = []\n",
    "list_ann_files_test = []\n",
    "for f in list_files_train:\n",
    "    ann_file = match_annotations_npy(save_annotations_path, f)\n",
    "    list_ann_files_train.append(ann_file[0])\n",
    "    \n",
    "for f in list_files_test:\n",
    "    ann_file = match_annotations_npy(save_annotations_path, f)\n",
    "    list_ann_files_test.append(ann_file[0])"
   ]
  },
  {
   "cell_type": "code",
   "execution_count": 8,
   "id": "6ac79f2d",
   "metadata": {},
   "outputs": [],
   "source": [
    "train_generator = DataGenerator(HT2D_path, save_annotations_path, list_files_train, list_ann_files_train, \n",
    "                          batch_size=bs, dim=dim_HT2D, n_classes=n_classes, shuffle=False)"
   ]
  },
  {
   "cell_type": "code",
   "execution_count": 9,
   "id": "5097eb97",
   "metadata": {},
   "outputs": [],
   "source": [
    "test_generator = DataGenerator(HT2D_path, save_annotations_path, list_files_test, list_ann_files_test, \n",
    "                          batch_size=bs, dim=dim_HT2D, n_classes=n_classes, shuffle=False)"
   ]
  },
  {
   "cell_type": "code",
   "execution_count": 18,
   "id": "60e90863",
   "metadata": {},
   "outputs": [],
   "source": [
    "model = tf.keras.Sequential([\n",
    "    tf.keras.layers.InputLayer(input_shape=dim_HT2D),\n",
    "    tf.keras.layers.Conv2D(filters=32,\n",
    "                    kernel_size=(300,5),\n",
    "                      strides=(10,2),\n",
    "                      padding='valid',\n",
    "                      use_bias=True),\n",
    "    tf.keras.layers.BatchNormalization(axis=-1),\n",
    "    tf.keras.layers.ReLU(),\n",
    "    tf.keras.layers.Conv2D(filters=64,\n",
    "                    kernel_size=(5,3),\n",
    "                      strides=(2,2),\n",
    "                      padding='same',\n",
    "                      use_bias=True),\n",
    "    tf.keras.layers.BatchNormalization(axis=-1),\n",
    "    tf.keras.layers.ReLU(),\n",
    "    tf.keras.layers.Conv2D(filters=128,\n",
    "                    kernel_size=(5,3),\n",
    "                      strides=(2,2),\n",
    "                      padding='same',\n",
    "                      use_bias=True),\n",
    "    tf.keras.layers.BatchNormalization(axis=-1),\n",
    "    tf.keras.layers.ReLU(),\n",
    "    tf.keras.layers.Conv2D(filters=256,\n",
    "                    kernel_size=(5,3),\n",
    "                      strides=(2,2),\n",
    "                      padding='same',\n",
    "                      use_bias=True),\n",
    "    tf.keras.layers.BatchNormalization(axis=-1),\n",
    "    tf.keras.layers.ReLU(),\n",
    "    tf.keras.layers.Flatten(),\n",
    "    tf.keras.layers.Dense(n_classes, activation='softmax')\n",
    "])\n",
    "    "
   ]
  },
  {
   "cell_type": "code",
   "execution_count": 1,
   "id": "2a526210",
   "metadata": {},
   "outputs": [
    {
     "ename": "NameError",
     "evalue": "name 'os' is not defined",
     "output_type": "error",
     "traceback": [
      "\u001b[0;31m---------------------------------------------------------------------------\u001b[0m",
      "\u001b[0;31mNameError\u001b[0m                                 Traceback (most recent call last)",
      "\u001b[0;32m/tmp/ipykernel_18460/3240218589.py\u001b[0m in \u001b[0;36m<module>\u001b[0;34m\u001b[0m\n\u001b[1;32m      3\u001b[0m \u001b[0;31m#Checkpoint설정\u001b[0m\u001b[0;34m\u001b[0m\u001b[0;34m\u001b[0m\u001b[0;34m\u001b[0m\u001b[0m\n\u001b[1;32m      4\u001b[0m \u001b[0mcheckpoint_dir\u001b[0m \u001b[0;34m=\u001b[0m \u001b[0;34m'./ckpt_conv'\u001b[0m\u001b[0;34m\u001b[0m\u001b[0;34m\u001b[0m\u001b[0m\n\u001b[0;32m----> 5\u001b[0;31m \u001b[0mmodel_cp_path\u001b[0m \u001b[0;34m=\u001b[0m \u001b[0mos\u001b[0m\u001b[0;34m.\u001b[0m\u001b[0mpath\u001b[0m\u001b[0;34m.\u001b[0m\u001b[0mjoin\u001b[0m\u001b[0;34m(\u001b[0m\u001b[0mcheckpoint_dir\u001b[0m\u001b[0;34m,\u001b[0m \u001b[0;34m\"ckpt_{epoch}\"\u001b[0m\u001b[0;34m)\u001b[0m\u001b[0;34m\u001b[0m\u001b[0;34m\u001b[0m\u001b[0m\n\u001b[0m\u001b[1;32m      6\u001b[0m \u001b[0mcallbacks\u001b[0m\u001b[0;34m.\u001b[0m\u001b[0mappend\u001b[0m\u001b[0;34m(\u001b[0m\u001b[0mtf\u001b[0m\u001b[0;34m.\u001b[0m\u001b[0mkeras\u001b[0m\u001b[0;34m.\u001b[0m\u001b[0mcallbacks\u001b[0m\u001b[0;34m.\u001b[0m\u001b[0mModelCheckpoint\u001b[0m\u001b[0;34m(\u001b[0m\u001b[0mmodel_cp_path\u001b[0m\u001b[0;34m,\u001b[0m \u001b[0msave_weights_only\u001b[0m\u001b[0;34m=\u001b[0m\u001b[0;32mTrue\u001b[0m\u001b[0;34m)\u001b[0m\u001b[0;34m)\u001b[0m\u001b[0;34m\u001b[0m\u001b[0;34m\u001b[0m\u001b[0m\n\u001b[1;32m      7\u001b[0m \u001b[0;34m\u001b[0m\u001b[0m\n",
      "\u001b[0;31mNameError\u001b[0m: name 'os' is not defined"
     ]
    }
   ],
   "source": [
    "callbacks = []\n",
    "\n",
    "#Checkpoint설정\n",
    "checkpoint_dir = './ckpt_conv'\n",
    "model_cp_path = os.path.join(checkpoint_dir, \"ckpt_{epoch}\")\n",
    "callbacks.append(tf.keras.callbacks.ModelCheckpoint(model_cp_path, save_weights_only=True))\n",
    "\n",
    "\n",
    "#Learning rate 스케쥴 설정\n",
    "#callbacks.append(LearningRateScheduler(decay))\n",
    "\n",
    "#General logs on csv\n",
    "#callbacks.append(CSVLogger(model_csv_path)) "
   ]
  },
  {
   "cell_type": "code",
   "execution_count": 20,
   "id": "98707ab9",
   "metadata": {},
   "outputs": [],
   "source": [
    "def eval_model(test_gen, model):\n",
    "    total_cnt = 0.0\n",
    "    total_loss = 0.0\n",
    "    correct = 0.0\n",
    "    for x, y in test_gen:\n",
    "        y_pred = model.predict(x)\n",
    "        y_pred_cls = tf.math.argmax(y_pred, axis=-1)\n",
    "        correct += tf.reduce_sum(tf.cast(tf.equal(y_pred_cls, y), tf.float32))\n",
    "        total_cnt += y_pred.shape[0]\n",
    "        loss_fn = tf.keras.losses.SparseCategoricalCrossentropy(from_logits=False, \n",
    "                                                                reduction=tf.keras.losses.Reduction.SUM)\n",
    "        y = tf.cast(y, dtype=tf.int32)\n",
    "        total_loss += loss_fn(y, y_pred).numpy()\n",
    "            \n",
    "    test_acc = correct / total_cnt\n",
    "    test_loss = total_loss / total_cnt\n",
    "    \n",
    "    print(\"test_acc: %.3f, test_loss: %.6f\"%(test_acc, test_loss))"
   ]
  },
  {
   "cell_type": "code",
   "execution_count": 21,
   "id": "d4a28467",
   "metadata": {},
   "outputs": [],
   "source": [
    "class eval_callback(tf.keras.callbacks.Callback):\n",
    "    def on_epoch_end(self, epoch, logs=None):\n",
    "        eval_model(test_generator, model)"
   ]
  },
  {
   "cell_type": "code",
   "execution_count": 22,
   "id": "e9eecb2f",
   "metadata": {},
   "outputs": [],
   "source": [
    "callbacks.append(eval_callback())"
   ]
  },
  {
   "cell_type": "code",
   "execution_count": 23,
   "id": "75f618f8",
   "metadata": {},
   "outputs": [],
   "source": [
    "model.compile(\n",
    "    optimizer=\"adam\",\n",
    "    loss=\"sparse_categorical_crossentropy\",\n",
    "    metrics=['sparse_categorical_accuracy'],\n",
    ")"
   ]
  },
  {
   "cell_type": "code",
   "execution_count": 24,
   "id": "070f5ced",
   "metadata": {
    "scrolled": true
   },
   "outputs": [
    {
     "name": "stdout",
     "output_type": "stream",
     "text": [
      "Model: \"sequential_1\"\n",
      "_________________________________________________________________\n",
      "Layer (type)                 Output Shape              Param #   \n",
      "=================================================================\n",
      "conv2d_3 (Conv2D)            (None, 271, 16, 32)       48032     \n",
      "_________________________________________________________________\n",
      "batch_normalization_3 (Batch (None, 271, 16, 32)       128       \n",
      "_________________________________________________________________\n",
      "re_lu_3 (ReLU)               (None, 271, 16, 32)       0         \n",
      "_________________________________________________________________\n",
      "conv2d_4 (Conv2D)            (None, 136, 8, 64)        30784     \n",
      "_________________________________________________________________\n",
      "batch_normalization_4 (Batch (None, 136, 8, 64)        256       \n",
      "_________________________________________________________________\n",
      "re_lu_4 (ReLU)               (None, 136, 8, 64)        0         \n",
      "_________________________________________________________________\n",
      "conv2d_5 (Conv2D)            (None, 68, 4, 128)        123008    \n",
      "_________________________________________________________________\n",
      "batch_normalization_5 (Batch (None, 68, 4, 128)        512       \n",
      "_________________________________________________________________\n",
      "re_lu_5 (ReLU)               (None, 68, 4, 128)        0         \n",
      "_________________________________________________________________\n",
      "conv2d_6 (Conv2D)            (None, 34, 2, 256)        491776    \n",
      "_________________________________________________________________\n",
      "batch_normalization_6 (Batch (None, 34, 2, 256)        1024      \n",
      "_________________________________________________________________\n",
      "re_lu_6 (ReLU)               (None, 34, 2, 256)        0         \n",
      "_________________________________________________________________\n",
      "flatten_1 (Flatten)          (None, 17408)             0         \n",
      "_________________________________________________________________\n",
      "dense_1 (Dense)              (None, 6)                 104454    \n",
      "=================================================================\n",
      "Total params: 799,974\n",
      "Trainable params: 799,014\n",
      "Non-trainable params: 960\n",
      "_________________________________________________________________\n"
     ]
    }
   ],
   "source": [
    "model.summary()"
   ]
  },
  {
   "cell_type": "code",
   "execution_count": 25,
   "id": "b57a6732",
   "metadata": {
    "scrolled": true
   },
   "outputs": [
    {
     "name": "stdout",
     "output_type": "stream",
     "text": [
      "Epoch 1/50\n",
      "1162/1162 [==============================] - 478s 411ms/step - loss: 1.4513 - sparse_categorical_accuracy: 0.6808\n",
      "test_acc: 0.659, test_loss: 1.258549\n",
      "Epoch 2/50\n",
      "1162/1162 [==============================] - 507s 436ms/step - loss: 1.1245 - sparse_categorical_accuracy: 0.6808\n",
      "test_acc: 0.659, test_loss: 1.132576\n",
      "Epoch 3/50\n",
      "1162/1162 [==============================] - 494s 425ms/step - loss: 1.0447 - sparse_categorical_accuracy: 0.6808\n",
      "test_acc: 0.659, test_loss: 1.114351\n",
      "Epoch 4/50\n",
      "1162/1162 [==============================] - 500s 431ms/step - loss: 1.0230 - sparse_categorical_accuracy: 0.6808\n",
      "test_acc: 0.659, test_loss: 1.117526\n",
      "Epoch 5/50\n",
      "1162/1162 [==============================] - 492s 423ms/step - loss: 1.0153 - sparse_categorical_accuracy: 0.6808\n",
      "test_acc: 0.659, test_loss: 1.126174\n",
      "Epoch 6/50\n",
      "1162/1162 [==============================] - 501s 431ms/step - loss: 1.0116 - sparse_categorical_accuracy: 0.6808\n",
      "test_acc: 0.659, test_loss: 1.136430\n",
      "Epoch 7/50\n",
      "1162/1162 [==============================] - 494s 425ms/step - loss: 1.0097 - sparse_categorical_accuracy: 0.6808\n",
      "test_acc: 0.659, test_loss: 1.146827\n",
      "Epoch 8/50\n",
      "1162/1162 [==============================] - 501s 431ms/step - loss: 1.0086 - sparse_categorical_accuracy: 0.6808\n",
      "test_acc: 0.659, test_loss: 1.156839\n",
      "Epoch 9/50\n",
      "1162/1162 [==============================] - 495s 426ms/step - loss: 1.0081 - sparse_categorical_accuracy: 0.6808\n",
      "test_acc: 0.659, test_loss: 1.165458\n",
      "Epoch 10/50\n",
      " 363/1162 [========>.....................] - ETA: 6:32 - loss: 1.0033 - sparse_categorical_accuracy: 0.6777"
     ]
    },
    {
     "ename": "KeyboardInterrupt",
     "evalue": "",
     "output_type": "error",
     "traceback": [
      "\u001b[0;31m---------------------------------------------------------------------------\u001b[0m",
      "\u001b[0;31mKeyboardInterrupt\u001b[0m                         Traceback (most recent call last)",
      "\u001b[0;32m/tmp/ipykernel_106517/1993267953.py\u001b[0m in \u001b[0;36m<module>\u001b[0;34m\u001b[0m\n\u001b[0;32m----> 1\u001b[0;31m history = model.fit(train_generator,              \n\u001b[0m\u001b[1;32m      2\u001b[0m               \u001b[0mepochs\u001b[0m\u001b[0;34m=\u001b[0m\u001b[0mepochs\u001b[0m\u001b[0;34m,\u001b[0m\u001b[0;34m\u001b[0m\u001b[0;34m\u001b[0m\u001b[0m\n\u001b[1;32m      3\u001b[0m               \u001b[0mverbose\u001b[0m\u001b[0;34m=\u001b[0m\u001b[0;36m1\u001b[0m\u001b[0;34m,\u001b[0m\u001b[0;34m\u001b[0m\u001b[0;34m\u001b[0m\u001b[0m\n\u001b[1;32m      4\u001b[0m               callbacks=callbacks)\n",
      "\u001b[0;32m~/anaconda3/envs/sleep/lib/python3.8/site-packages/tensorflow/python/keras/engine/training.py\u001b[0m in \u001b[0;36mfit\u001b[0;34m(self, x, y, batch_size, epochs, verbose, callbacks, validation_split, validation_data, shuffle, class_weight, sample_weight, initial_epoch, steps_per_epoch, validation_steps, validation_batch_size, validation_freq, max_queue_size, workers, use_multiprocessing)\u001b[0m\n\u001b[1;32m   1181\u001b[0m                 _r=1):\n\u001b[1;32m   1182\u001b[0m               \u001b[0mcallbacks\u001b[0m\u001b[0;34m.\u001b[0m\u001b[0mon_train_batch_begin\u001b[0m\u001b[0;34m(\u001b[0m\u001b[0mstep\u001b[0m\u001b[0;34m)\u001b[0m\u001b[0;34m\u001b[0m\u001b[0;34m\u001b[0m\u001b[0m\n\u001b[0;32m-> 1183\u001b[0;31m               \u001b[0mtmp_logs\u001b[0m \u001b[0;34m=\u001b[0m \u001b[0mself\u001b[0m\u001b[0;34m.\u001b[0m\u001b[0mtrain_function\u001b[0m\u001b[0;34m(\u001b[0m\u001b[0miterator\u001b[0m\u001b[0;34m)\u001b[0m\u001b[0;34m\u001b[0m\u001b[0;34m\u001b[0m\u001b[0m\n\u001b[0m\u001b[1;32m   1184\u001b[0m               \u001b[0;32mif\u001b[0m \u001b[0mdata_handler\u001b[0m\u001b[0;34m.\u001b[0m\u001b[0mshould_sync\u001b[0m\u001b[0;34m:\u001b[0m\u001b[0;34m\u001b[0m\u001b[0;34m\u001b[0m\u001b[0m\n\u001b[1;32m   1185\u001b[0m                 \u001b[0mcontext\u001b[0m\u001b[0;34m.\u001b[0m\u001b[0masync_wait\u001b[0m\u001b[0;34m(\u001b[0m\u001b[0;34m)\u001b[0m\u001b[0;34m\u001b[0m\u001b[0;34m\u001b[0m\u001b[0m\n",
      "\u001b[0;32m~/anaconda3/envs/sleep/lib/python3.8/site-packages/tensorflow/python/eager/def_function.py\u001b[0m in \u001b[0;36m__call__\u001b[0;34m(self, *args, **kwds)\u001b[0m\n\u001b[1;32m    887\u001b[0m \u001b[0;34m\u001b[0m\u001b[0m\n\u001b[1;32m    888\u001b[0m       \u001b[0;32mwith\u001b[0m \u001b[0mOptionalXlaContext\u001b[0m\u001b[0;34m(\u001b[0m\u001b[0mself\u001b[0m\u001b[0;34m.\u001b[0m\u001b[0m_jit_compile\u001b[0m\u001b[0;34m)\u001b[0m\u001b[0;34m:\u001b[0m\u001b[0;34m\u001b[0m\u001b[0;34m\u001b[0m\u001b[0m\n\u001b[0;32m--> 889\u001b[0;31m         \u001b[0mresult\u001b[0m \u001b[0;34m=\u001b[0m \u001b[0mself\u001b[0m\u001b[0;34m.\u001b[0m\u001b[0m_call\u001b[0m\u001b[0;34m(\u001b[0m\u001b[0;34m*\u001b[0m\u001b[0margs\u001b[0m\u001b[0;34m,\u001b[0m \u001b[0;34m**\u001b[0m\u001b[0mkwds\u001b[0m\u001b[0;34m)\u001b[0m\u001b[0;34m\u001b[0m\u001b[0;34m\u001b[0m\u001b[0m\n\u001b[0m\u001b[1;32m    890\u001b[0m \u001b[0;34m\u001b[0m\u001b[0m\n\u001b[1;32m    891\u001b[0m       \u001b[0mnew_tracing_count\u001b[0m \u001b[0;34m=\u001b[0m \u001b[0mself\u001b[0m\u001b[0;34m.\u001b[0m\u001b[0mexperimental_get_tracing_count\u001b[0m\u001b[0;34m(\u001b[0m\u001b[0;34m)\u001b[0m\u001b[0;34m\u001b[0m\u001b[0;34m\u001b[0m\u001b[0m\n",
      "\u001b[0;32m~/anaconda3/envs/sleep/lib/python3.8/site-packages/tensorflow/python/eager/def_function.py\u001b[0m in \u001b[0;36m_call\u001b[0;34m(self, *args, **kwds)\u001b[0m\n\u001b[1;32m    915\u001b[0m       \u001b[0;31m# In this case we have created variables on the first call, so we run the\u001b[0m\u001b[0;34m\u001b[0m\u001b[0;34m\u001b[0m\u001b[0;34m\u001b[0m\u001b[0m\n\u001b[1;32m    916\u001b[0m       \u001b[0;31m# defunned version which is guaranteed to never create variables.\u001b[0m\u001b[0;34m\u001b[0m\u001b[0;34m\u001b[0m\u001b[0;34m\u001b[0m\u001b[0m\n\u001b[0;32m--> 917\u001b[0;31m       \u001b[0;32mreturn\u001b[0m \u001b[0mself\u001b[0m\u001b[0;34m.\u001b[0m\u001b[0m_stateless_fn\u001b[0m\u001b[0;34m(\u001b[0m\u001b[0;34m*\u001b[0m\u001b[0margs\u001b[0m\u001b[0;34m,\u001b[0m \u001b[0;34m**\u001b[0m\u001b[0mkwds\u001b[0m\u001b[0;34m)\u001b[0m  \u001b[0;31m# pylint: disable=not-callable\u001b[0m\u001b[0;34m\u001b[0m\u001b[0;34m\u001b[0m\u001b[0m\n\u001b[0m\u001b[1;32m    918\u001b[0m     \u001b[0;32melif\u001b[0m \u001b[0mself\u001b[0m\u001b[0;34m.\u001b[0m\u001b[0m_stateful_fn\u001b[0m \u001b[0;32mis\u001b[0m \u001b[0;32mnot\u001b[0m \u001b[0;32mNone\u001b[0m\u001b[0;34m:\u001b[0m\u001b[0;34m\u001b[0m\u001b[0;34m\u001b[0m\u001b[0m\n\u001b[1;32m    919\u001b[0m       \u001b[0;31m# Release the lock early so that multiple threads can perform the call\u001b[0m\u001b[0;34m\u001b[0m\u001b[0;34m\u001b[0m\u001b[0;34m\u001b[0m\u001b[0m\n",
      "\u001b[0;32m~/anaconda3/envs/sleep/lib/python3.8/site-packages/tensorflow/python/eager/function.py\u001b[0m in \u001b[0;36m__call__\u001b[0;34m(self, *args, **kwargs)\u001b[0m\n\u001b[1;32m   3021\u001b[0m       (graph_function,\n\u001b[1;32m   3022\u001b[0m        filtered_flat_args) = self._maybe_define_function(args, kwargs)\n\u001b[0;32m-> 3023\u001b[0;31m     return graph_function._call_flat(\n\u001b[0m\u001b[1;32m   3024\u001b[0m         filtered_flat_args, captured_inputs=graph_function.captured_inputs)  # pylint: disable=protected-access\n\u001b[1;32m   3025\u001b[0m \u001b[0;34m\u001b[0m\u001b[0m\n",
      "\u001b[0;32m~/anaconda3/envs/sleep/lib/python3.8/site-packages/tensorflow/python/eager/function.py\u001b[0m in \u001b[0;36m_call_flat\u001b[0;34m(self, args, captured_inputs, cancellation_manager)\u001b[0m\n\u001b[1;32m   1958\u001b[0m         and executing_eagerly):\n\u001b[1;32m   1959\u001b[0m       \u001b[0;31m# No tape is watching; skip to running the function.\u001b[0m\u001b[0;34m\u001b[0m\u001b[0;34m\u001b[0m\u001b[0;34m\u001b[0m\u001b[0m\n\u001b[0;32m-> 1960\u001b[0;31m       return self._build_call_outputs(self._inference_function.call(\n\u001b[0m\u001b[1;32m   1961\u001b[0m           ctx, args, cancellation_manager=cancellation_manager))\n\u001b[1;32m   1962\u001b[0m     forward_backward = self._select_forward_and_backward_functions(\n",
      "\u001b[0;32m~/anaconda3/envs/sleep/lib/python3.8/site-packages/tensorflow/python/eager/function.py\u001b[0m in \u001b[0;36mcall\u001b[0;34m(self, ctx, args, cancellation_manager)\u001b[0m\n\u001b[1;32m    589\u001b[0m       \u001b[0;32mwith\u001b[0m \u001b[0m_InterpolateFunctionError\u001b[0m\u001b[0;34m(\u001b[0m\u001b[0mself\u001b[0m\u001b[0;34m)\u001b[0m\u001b[0;34m:\u001b[0m\u001b[0;34m\u001b[0m\u001b[0;34m\u001b[0m\u001b[0m\n\u001b[1;32m    590\u001b[0m         \u001b[0;32mif\u001b[0m \u001b[0mcancellation_manager\u001b[0m \u001b[0;32mis\u001b[0m \u001b[0;32mNone\u001b[0m\u001b[0;34m:\u001b[0m\u001b[0;34m\u001b[0m\u001b[0;34m\u001b[0m\u001b[0m\n\u001b[0;32m--> 591\u001b[0;31m           outputs = execute.execute(\n\u001b[0m\u001b[1;32m    592\u001b[0m               \u001b[0mstr\u001b[0m\u001b[0;34m(\u001b[0m\u001b[0mself\u001b[0m\u001b[0;34m.\u001b[0m\u001b[0msignature\u001b[0m\u001b[0;34m.\u001b[0m\u001b[0mname\u001b[0m\u001b[0;34m)\u001b[0m\u001b[0;34m,\u001b[0m\u001b[0;34m\u001b[0m\u001b[0;34m\u001b[0m\u001b[0m\n\u001b[1;32m    593\u001b[0m               \u001b[0mnum_outputs\u001b[0m\u001b[0;34m=\u001b[0m\u001b[0mself\u001b[0m\u001b[0;34m.\u001b[0m\u001b[0m_num_outputs\u001b[0m\u001b[0;34m,\u001b[0m\u001b[0;34m\u001b[0m\u001b[0;34m\u001b[0m\u001b[0m\n",
      "\u001b[0;32m~/anaconda3/envs/sleep/lib/python3.8/site-packages/tensorflow/python/eager/execute.py\u001b[0m in \u001b[0;36mquick_execute\u001b[0;34m(op_name, num_outputs, inputs, attrs, ctx, name)\u001b[0m\n\u001b[1;32m     57\u001b[0m   \u001b[0;32mtry\u001b[0m\u001b[0;34m:\u001b[0m\u001b[0;34m\u001b[0m\u001b[0;34m\u001b[0m\u001b[0m\n\u001b[1;32m     58\u001b[0m     \u001b[0mctx\u001b[0m\u001b[0;34m.\u001b[0m\u001b[0mensure_initialized\u001b[0m\u001b[0;34m(\u001b[0m\u001b[0;34m)\u001b[0m\u001b[0;34m\u001b[0m\u001b[0;34m\u001b[0m\u001b[0m\n\u001b[0;32m---> 59\u001b[0;31m     tensors = pywrap_tfe.TFE_Py_Execute(ctx._handle, device_name, op_name,\n\u001b[0m\u001b[1;32m     60\u001b[0m                                         inputs, attrs, num_outputs)\n\u001b[1;32m     61\u001b[0m   \u001b[0;32mexcept\u001b[0m \u001b[0mcore\u001b[0m\u001b[0;34m.\u001b[0m\u001b[0m_NotOkStatusException\u001b[0m \u001b[0;32mas\u001b[0m \u001b[0me\u001b[0m\u001b[0;34m:\u001b[0m\u001b[0;34m\u001b[0m\u001b[0;34m\u001b[0m\u001b[0m\n",
      "\u001b[0;31mKeyboardInterrupt\u001b[0m: "
     ]
    }
   ],
   "source": [
    "history = model.fit(train_generator,              \n",
    "              epochs=epochs,\n",
    "              verbose=1,\n",
    "              callbacks=callbacks)"
   ]
  },
  {
   "cell_type": "code",
   "execution_count": null,
   "id": "3a04c989",
   "metadata": {},
   "outputs": [],
   "source": []
  }
 ],
 "metadata": {
  "kernelspec": {
   "display_name": "Python 3 (ipykernel)",
   "language": "python",
   "name": "python3"
  },
  "language_info": {
   "codemirror_mode": {
    "name": "ipython",
    "version": 3
   },
   "file_extension": ".py",
   "mimetype": "text/x-python",
   "name": "python",
   "nbconvert_exporter": "python",
   "pygments_lexer": "ipython3",
   "version": "3.8.12"
  }
 },
 "nbformat": 4,
 "nbformat_minor": 5
}
